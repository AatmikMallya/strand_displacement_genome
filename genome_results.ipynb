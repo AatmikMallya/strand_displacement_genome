{
 "cells": [
  {
   "cell_type": "code",
   "execution_count": 1,
   "id": "d2313ec0-6ab9-48d0-9c21-34f6db676892",
   "metadata": {},
   "outputs": [],
   "source": [
    "import numpy as np\n",
    "import random\n",
    "from Bio import SeqIO\n",
    "from Bio.Seq import Seq\n",
    "from Bio.SeqUtils import nt_search\n",
    "import matplotlib.pyplot as plt\n",
    "import seaborn as sns\n",
    "import pandas as pd\n",
    "import pandasql as ps\n",
    "import time\n",
    "import datetime\n",
    "import itertools\n",
    "from statistics import mean, stdev\n",
    "import rapidfuzz\n",
    "import string\n",
    "import pprint\n",
    "from BCBio.GFF import GFFExaminer\n",
    "from BCBio import GFF\n"
   ]
  },
  {
   "cell_type": "code",
   "execution_count": 154,
   "id": "79f7cbcc-9df8-4f4d-b008-9e6d040443f9",
   "metadata": {},
   "outputs": [],
   "source": [
    "dfs = []\n",
    "for i in range(1,9):\n",
    "    df = pd.read_csv(f'ecoli_250window_{i}.csv')\n",
    "    df['start_idx'] = df.index + (612371+250) * (i-1)\n",
    "    dfs.append(df)\n",
    "df = pd.concat(dfs)\n",
    "df = df.set_index('start_idx')\n",
    "df['start_idx'] = df.index"
   ]
  },
  {
   "cell_type": "code",
   "execution_count": 118,
   "id": "9d27e3cb-470f-445f-bec7-009e19b6005d",
   "metadata": {},
   "outputs": [],
   "source": [
    "df_distinct = df.drop_duplicates(subset=['sd_seq'])"
   ]
  },
  {
   "cell_type": "code",
   "execution_count": 4,
   "id": "4b5e3293-46dc-4095-89fa-5885f5e55b23",
   "metadata": {},
   "outputs": [
    {
     "data": {
      "text/html": [
       "<div>\n",
       "<style scoped>\n",
       "    .dataframe tbody tr th:only-of-type {\n",
       "        vertical-align: middle;\n",
       "    }\n",
       "\n",
       "    .dataframe tbody tr th {\n",
       "        vertical-align: top;\n",
       "    }\n",
       "\n",
       "    .dataframe thead th {\n",
       "        text-align: right;\n",
       "    }\n",
       "</style>\n",
       "<table border=\"1\" class=\"dataframe\">\n",
       "  <thead>\n",
       "    <tr style=\"text-align: right;\">\n",
       "      <th></th>\n",
       "      <th>length</th>\n",
       "      <th>sd_seq</th>\n",
       "      <th>start_idx</th>\n",
       "    </tr>\n",
       "    <tr>\n",
       "      <th>start_idx</th>\n",
       "      <th></th>\n",
       "      <th></th>\n",
       "      <th></th>\n",
       "    </tr>\n",
       "  </thead>\n",
       "  <tbody>\n",
       "    <tr>\n",
       "      <th>0</th>\n",
       "      <td>8</td>\n",
       "      <td>GTTACCTG</td>\n",
       "      <td>0</td>\n",
       "    </tr>\n",
       "    <tr>\n",
       "      <th>37</th>\n",
       "      <td>9</td>\n",
       "      <td>GTGCGGGCT</td>\n",
       "      <td>37</td>\n",
       "    </tr>\n",
       "    <tr>\n",
       "      <th>38</th>\n",
       "      <td>10</td>\n",
       "      <td>GGTGCGGGCT</td>\n",
       "      <td>38</td>\n",
       "    </tr>\n",
       "    <tr>\n",
       "      <th>54</th>\n",
       "      <td>11</td>\n",
       "      <td>AAAGCCCGCAC</td>\n",
       "      <td>54</td>\n",
       "    </tr>\n",
       "    <tr>\n",
       "      <th>55</th>\n",
       "      <td>12</td>\n",
       "      <td>AAAAGCCCGCAC</td>\n",
       "      <td>55</td>\n",
       "    </tr>\n",
       "    <tr>\n",
       "      <th>...</th>\n",
       "      <td>...</td>\n",
       "      <td>...</td>\n",
       "      <td>...</td>\n",
       "    </tr>\n",
       "    <tr>\n",
       "      <th>4899841</th>\n",
       "      <td>7</td>\n",
       "      <td>AATGCTA</td>\n",
       "      <td>4899841</td>\n",
       "    </tr>\n",
       "    <tr>\n",
       "      <th>4899842</th>\n",
       "      <td>8</td>\n",
       "      <td>AAATGCTA</td>\n",
       "      <td>4899842</td>\n",
       "    </tr>\n",
       "    <tr>\n",
       "      <th>4899959</th>\n",
       "      <td>6</td>\n",
       "      <td>ATGCTA</td>\n",
       "      <td>4899959</td>\n",
       "    </tr>\n",
       "    <tr>\n",
       "      <th>4900211</th>\n",
       "      <td>8</td>\n",
       "      <td>TAACGATT</td>\n",
       "      <td>4900211</td>\n",
       "    </tr>\n",
       "    <tr>\n",
       "      <th>4900653</th>\n",
       "      <td>8</td>\n",
       "      <td>GCAACATT</td>\n",
       "      <td>4900653</td>\n",
       "    </tr>\n",
       "  </tbody>\n",
       "</table>\n",
       "<p>36898 rows × 3 columns</p>\n",
       "</div>"
      ],
      "text/plain": [
       "           length        sd_seq  start_idx\n",
       "start_idx                                 \n",
       "0               8      GTTACCTG          0\n",
       "37              9     GTGCGGGCT         37\n",
       "38             10    GGTGCGGGCT         38\n",
       "54             11   AAAGCCCGCAC         54\n",
       "55             12  AAAAGCCCGCAC         55\n",
       "...           ...           ...        ...\n",
       "4899841         7       AATGCTA    4899841\n",
       "4899842         8      AAATGCTA    4899842\n",
       "4899959         6        ATGCTA    4899959\n",
       "4900211         8      TAACGATT    4900211\n",
       "4900653         8      GCAACATT    4900653\n",
       "\n",
       "[36898 rows x 3 columns]"
      ]
     },
     "execution_count": 4,
     "metadata": {},
     "output_type": "execute_result"
    }
   ],
   "source": [
    "df_distinct"
   ]
  },
  {
   "cell_type": "code",
   "execution_count": 5,
   "id": "ae09fefc-3025-483f-a816-298b0a135717",
   "metadata": {},
   "outputs": [],
   "source": [
    "ecoli_gff = \"Escherichia_coli_w_gca_000184185.ASM18418v1.56.chromosome.Chromosome.gff3\"\n"
   ]
  },
  {
   "cell_type": "code",
   "execution_count": 6,
   "id": "cd0784f4-b8bd-463e-a735-f22ed23c0871",
   "metadata": {},
   "outputs": [],
   "source": [
    "# parse the GFF file using BCBio\n",
    "with open(ecoli_gff) as handle:\n",
    "    records = list(GFF.parse(handle))\n",
    "\n",
    "# create an empty dataframe to store the results\n",
    "df_list = []\n",
    "\n",
    "# iterate over each record in the parsed GFF file\n",
    "for record in records:\n",
    "    for feature in record.features:\n",
    "        # get the start and end coordinates of the feature\n",
    "        start = feature.location.start.position\n",
    "        end = feature.location.end.position\n",
    "\n",
    "        # get the strand of the feature\n",
    "        if feature.location.strand == 1:\n",
    "            strand = '+'\n",
    "        elif feature.location.strand == -1:\n",
    "            strand = '-'\n",
    "        else:\n",
    "            strand = '.'\n",
    "\n",
    "        # get the feature type and attributes\n",
    "        feature_type = feature.type\n",
    "        attributes = feature.qualifiers\n",
    "\n",
    "        # get the sequence ID from the record\n",
    "        seqid = record.id\n",
    "\n",
    "        # create a new dataframe row with the extracted data\n",
    "        row = pd.DataFrame({'seqid': [seqid], 'start': [start], 'end': [end], \n",
    "                            'strand': [strand], 'feature': [feature_type], \n",
    "                            'attributes': [attributes]})\n",
    "\n",
    "        # append the row dataframe to the list\n",
    "        df_list.append(row)\n",
    "\n",
    "# concatenate all the dataframes in the list into a single dataframe\n",
    "df2 = pd.concat(df_list, ignore_index=True)\n",
    "df2['attributes'] = df2['attributes'].apply(str)\n",
    "df2 = df2.drop(11)\n"
   ]
  },
  {
   "cell_type": "code",
   "execution_count": 7,
   "id": "35ebdd2d-71b6-4b79-8f86-f5312a8e1ac1",
   "metadata": {},
   "outputs": [
    {
     "data": {
      "text/html": [
       "<div>\n",
       "<style scoped>\n",
       "    .dataframe tbody tr th:only-of-type {\n",
       "        vertical-align: middle;\n",
       "    }\n",
       "\n",
       "    .dataframe tbody tr th {\n",
       "        vertical-align: top;\n",
       "    }\n",
       "\n",
       "    .dataframe thead th {\n",
       "        text-align: right;\n",
       "    }\n",
       "</style>\n",
       "<table border=\"1\" class=\"dataframe\">\n",
       "  <thead>\n",
       "    <tr style=\"text-align: right;\">\n",
       "      <th></th>\n",
       "      <th>seqid</th>\n",
       "      <th>start</th>\n",
       "      <th>end</th>\n",
       "      <th>strand</th>\n",
       "      <th>feature</th>\n",
       "      <th>attributes</th>\n",
       "    </tr>\n",
       "  </thead>\n",
       "  <tbody>\n",
       "    <tr>\n",
       "      <th>0</th>\n",
       "      <td>Chromosome</td>\n",
       "      <td>887177</td>\n",
       "      <td>887322</td>\n",
       "      <td>+</td>\n",
       "      <td>biological_region</td>\n",
       "      <td>{'external_name': ['Moco RNA riboswitch'], 'lo...</td>\n",
       "    </tr>\n",
       "    <tr>\n",
       "      <th>1</th>\n",
       "      <td>Chromosome</td>\n",
       "      <td>2353927</td>\n",
       "      <td>2354024</td>\n",
       "      <td>+</td>\n",
       "      <td>biological_region</td>\n",
       "      <td>{'external_name': ['TPP riboswitch; ECW_nc2306...</td>\n",
       "    </tr>\n",
       "    <tr>\n",
       "      <th>2</th>\n",
       "      <td>Chromosome</td>\n",
       "      <td>3398638</td>\n",
       "      <td>3398787</td>\n",
       "      <td>+</td>\n",
       "      <td>biological_region</td>\n",
       "      <td>{'external_name': ['FMN riboswitch; ECW_nc3308...</td>\n",
       "    </tr>\n",
       "    <tr>\n",
       "      <th>3</th>\n",
       "      <td>Chromosome</td>\n",
       "      <td>3450634</td>\n",
       "      <td>3450774</td>\n",
       "      <td>+</td>\n",
       "      <td>biological_region</td>\n",
       "      <td>{'external_name': ['yybP-ykoY; ECW_nc3354'], '...</td>\n",
       "    </tr>\n",
       "    <tr>\n",
       "      <th>4</th>\n",
       "      <td>Chromosome</td>\n",
       "      <td>3531759</td>\n",
       "      <td>3531874</td>\n",
       "      <td>-</td>\n",
       "      <td>biological_region</td>\n",
       "      <td>{'external_name': ['Ribosomal S15 leader; ECW_...</td>\n",
       "    </tr>\n",
       "    <tr>\n",
       "      <th>5</th>\n",
       "      <td>Chromosome</td>\n",
       "      <td>3655407</td>\n",
       "      <td>3655519</td>\n",
       "      <td>-</td>\n",
       "      <td>biological_region</td>\n",
       "      <td>{'external_name': ['alpha operon ribosome bind...</td>\n",
       "    </tr>\n",
       "    <tr>\n",
       "      <th>6</th>\n",
       "      <td>Chromosome</td>\n",
       "      <td>4428031</td>\n",
       "      <td>4428222</td>\n",
       "      <td>+</td>\n",
       "      <td>biological_region</td>\n",
       "      <td>{'external_name': ['cobalamin riboswitch; ECW_...</td>\n",
       "    </tr>\n",
       "    <tr>\n",
       "      <th>7</th>\n",
       "      <td>Chromosome</td>\n",
       "      <td>4459904</td>\n",
       "      <td>4460005</td>\n",
       "      <td>+</td>\n",
       "      <td>biological_region</td>\n",
       "      <td>{'external_name': ['TPP riboswitch; ECW_nc4353...</td>\n",
       "    </tr>\n",
       "    <tr>\n",
       "      <th>8</th>\n",
       "      <td>Chromosome</td>\n",
       "      <td>4499186</td>\n",
       "      <td>4499383</td>\n",
       "      <td>+</td>\n",
       "      <td>biological_region</td>\n",
       "      <td>{'external_name': ['lysine riboswitch; ECW_nc4...</td>\n",
       "    </tr>\n",
       "    <tr>\n",
       "      <th>9</th>\n",
       "      <td>Chromosome</td>\n",
       "      <td>4634595</td>\n",
       "      <td>4634642</td>\n",
       "      <td>+</td>\n",
       "      <td>biological_region</td>\n",
       "      <td>{'external_name': ['putative mini-ykkC riboswi...</td>\n",
       "    </tr>\n",
       "    <tr>\n",
       "      <th>10</th>\n",
       "      <td>Chromosome</td>\n",
       "      <td>4725772</td>\n",
       "      <td>4725888</td>\n",
       "      <td>+</td>\n",
       "      <td>biological_region</td>\n",
       "      <td>{'external_name': ['Mg sensor; ECW_nc4603'], '...</td>\n",
       "    </tr>\n",
       "    <tr>\n",
       "      <th>12</th>\n",
       "      <td>Chromosome</td>\n",
       "      <td>189</td>\n",
       "      <td>255</td>\n",
       "      <td>+</td>\n",
       "      <td>gene</td>\n",
       "      <td>{'ID': ['gene:ECW_m0001'], 'Name': ['thrL'], '...</td>\n",
       "    </tr>\n",
       "    <tr>\n",
       "      <th>13</th>\n",
       "      <td>Chromosome</td>\n",
       "      <td>335</td>\n",
       "      <td>2798</td>\n",
       "      <td>+</td>\n",
       "      <td>gene</td>\n",
       "      <td>{'ID': ['gene:ECW_m0002'], 'Name': ['thrA'], '...</td>\n",
       "    </tr>\n",
       "  </tbody>\n",
       "</table>\n",
       "</div>"
      ],
      "text/plain": [
       "         seqid    start      end strand            feature  \\\n",
       "0   Chromosome   887177   887322      +  biological_region   \n",
       "1   Chromosome  2353927  2354024      +  biological_region   \n",
       "2   Chromosome  3398638  3398787      +  biological_region   \n",
       "3   Chromosome  3450634  3450774      +  biological_region   \n",
       "4   Chromosome  3531759  3531874      -  biological_region   \n",
       "5   Chromosome  3655407  3655519      -  biological_region   \n",
       "6   Chromosome  4428031  4428222      +  biological_region   \n",
       "7   Chromosome  4459904  4460005      +  biological_region   \n",
       "8   Chromosome  4499186  4499383      +  biological_region   \n",
       "9   Chromosome  4634595  4634642      +  biological_region   \n",
       "10  Chromosome  4725772  4725888      +  biological_region   \n",
       "12  Chromosome      189      255      +               gene   \n",
       "13  Chromosome      335     2798      +               gene   \n",
       "\n",
       "                                           attributes  \n",
       "0   {'external_name': ['Moco RNA riboswitch'], 'lo...  \n",
       "1   {'external_name': ['TPP riboswitch; ECW_nc2306...  \n",
       "2   {'external_name': ['FMN riboswitch; ECW_nc3308...  \n",
       "3   {'external_name': ['yybP-ykoY; ECW_nc3354'], '...  \n",
       "4   {'external_name': ['Ribosomal S15 leader; ECW_...  \n",
       "5   {'external_name': ['alpha operon ribosome bind...  \n",
       "6   {'external_name': ['cobalamin riboswitch; ECW_...  \n",
       "7   {'external_name': ['TPP riboswitch; ECW_nc4353...  \n",
       "8   {'external_name': ['lysine riboswitch; ECW_nc4...  \n",
       "9   {'external_name': ['putative mini-ykkC riboswi...  \n",
       "10  {'external_name': ['Mg sensor; ECW_nc4603'], '...  \n",
       "12  {'ID': ['gene:ECW_m0001'], 'Name': ['thrL'], '...  \n",
       "13  {'ID': ['gene:ECW_m0002'], 'Name': ['thrA'], '...  "
      ]
     },
     "execution_count": 7,
     "metadata": {},
     "output_type": "execute_result"
    }
   ],
   "source": [
    "df2.head(13)"
   ]
  },
  {
   "cell_type": "code",
   "execution_count": null,
   "id": "43481aa5-dcf7-4459-83c4-4d6abbb00de0",
   "metadata": {},
   "outputs": [],
   "source": []
  },
  {
   "cell_type": "code",
   "execution_count": null,
   "id": "ef6ba4c9-82bd-4453-b522-de9b95e01250",
   "metadata": {},
   "outputs": [],
   "source": []
  },
  {
   "cell_type": "code",
   "execution_count": null,
   "id": "092fbd96-7e78-4623-ada3-8fe3fdec8b2c",
   "metadata": {},
   "outputs": [],
   "source": []
  },
  {
   "cell_type": "code",
   "execution_count": 8,
   "id": "dcca31fe-3397-44a0-a5f6-e937bda44869",
   "metadata": {},
   "outputs": [
    {
     "data": {
      "text/plain": [
       "<AxesSubplot:title={'center':'Distribution of invading sequence lengths'}>"
      ]
     },
     "execution_count": 8,
     "metadata": {},
     "output_type": "execute_result"
    },
    {
     "data": {
      "image/png": "[encoded data removed]",
      "text/plain": [
       "<Figure size 640x480 with 1 Axes>"
      ]
     },
     "metadata": {},
     "output_type": "display_data"
    }
   ],
   "source": [
    "df_random = pd.read_csv('results/random_threshold_5_extra.csv')\n",
    "random_mean = np.mean(df_random[df_random.seq_length == 250].length)\n",
    "ecoli_mean = np.mean(df.length)\n",
    "plt.axvline(x = ecoli_mean, color = 'r', label = 'Mean of E. coli genome')\n",
    "plt.axvline(x = random_mean, color = 'b', label = 'Mean of random sequences (length = 250)')\n",
    "plt.title('Distribution of invading sequence lengths')\n",
    "plt.legend()\n",
    "df_distinct.length.hist()"
   ]
  },
  {
   "cell_type": "code",
   "execution_count": 9,
   "id": "1a7dc6f1-ac74-45f3-bb47-76d3250cf1c4",
   "metadata": {},
   "outputs": [
    {
     "data": {
      "text/plain": [
       "4759"
      ]
     },
     "execution_count": 9,
     "metadata": {},
     "output_type": "execute_result"
    }
   ],
   "source": [
    "len(df2)\n"
   ]
  },
  {
   "cell_type": "code",
   "execution_count": null,
   "id": "3194db5f-cbea-4b65-94b5-0df623c409bf",
   "metadata": {},
   "outputs": [],
   "source": []
  },
  {
   "cell_type": "code",
   "execution_count": 10,
   "id": "0ee2f5e4-b807-4cee-a33a-e453ea6ef2d2",
   "metadata": {},
   "outputs": [
    {
     "data": {
      "text/plain": [
       "4900944"
      ]
     },
     "execution_count": 10,
     "metadata": {},
     "output_type": "execute_result"
    }
   ],
   "source": [
    "np.max(df2.end)"
   ]
  },
  {
   "cell_type": "code",
   "execution_count": 11,
   "id": "09b047ce-0fa9-42bb-9698-78811a84c4db",
   "metadata": {},
   "outputs": [
    {
     "name": "stderr",
     "output_type": "stream",
     "text": [
      "/tmp/ipykernel_6968/2431146924.py:2: SettingWithCopyWarning: \n",
      "A value is trying to be set on a copy of a slice from a DataFrame.\n",
      "Try using .loc[row_indexer,col_indexer] = value instead\n",
      "\n",
      "See the caveats in the documentation: https://pandas.pydata.org/pandas-docs/stable/user_guide/indexing.html#returning-a-view-versus-a-copy\n",
      "  df_ribo['window_size'] = df_ribo.end - df_ribo.start\n"
     ]
    }
   ],
   "source": [
    "df_ribo = df2[df2.attributes.str.contains('riboswitch')]\n",
    "df_ribo['window_size'] = df_ribo.end - df_ribo.start"
   ]
  },
  {
   "cell_type": "code",
   "execution_count": 12,
   "id": "3411e505-f716-47d4-a5f0-85d220fdfb40",
   "metadata": {},
   "outputs": [
    {
     "data": {
      "text/html": [
       "<div>\n",
       "<style scoped>\n",
       "    .dataframe tbody tr th:only-of-type {\n",
       "        vertical-align: middle;\n",
       "    }\n",
       "\n",
       "    .dataframe tbody tr th {\n",
       "        vertical-align: top;\n",
       "    }\n",
       "\n",
       "    .dataframe thead th {\n",
       "        text-align: right;\n",
       "    }\n",
       "</style>\n",
       "<table border=\"1\" class=\"dataframe\">\n",
       "  <thead>\n",
       "    <tr style=\"text-align: right;\">\n",
       "      <th></th>\n",
       "      <th>seqid</th>\n",
       "      <th>start</th>\n",
       "      <th>end</th>\n",
       "      <th>strand</th>\n",
       "      <th>feature</th>\n",
       "      <th>attributes</th>\n",
       "      <th>window_size</th>\n",
       "    </tr>\n",
       "  </thead>\n",
       "  <tbody>\n",
       "    <tr>\n",
       "      <th>0</th>\n",
       "      <td>Chromosome</td>\n",
       "      <td>887177</td>\n",
       "      <td>887322</td>\n",
       "      <td>+</td>\n",
       "      <td>biological_region</td>\n",
       "      <td>{'external_name': ['Moco RNA riboswitch'], 'lo...</td>\n",
       "      <td>145</td>\n",
       "    </tr>\n",
       "    <tr>\n",
       "      <th>1</th>\n",
       "      <td>Chromosome</td>\n",
       "      <td>2353927</td>\n",
       "      <td>2354024</td>\n",
       "      <td>+</td>\n",
       "      <td>biological_region</td>\n",
       "      <td>{'external_name': ['TPP riboswitch; ECW_nc2306...</td>\n",
       "      <td>97</td>\n",
       "    </tr>\n",
       "    <tr>\n",
       "      <th>2</th>\n",
       "      <td>Chromosome</td>\n",
       "      <td>3398638</td>\n",
       "      <td>3398787</td>\n",
       "      <td>+</td>\n",
       "      <td>biological_region</td>\n",
       "      <td>{'external_name': ['FMN riboswitch; ECW_nc3308...</td>\n",
       "      <td>149</td>\n",
       "    </tr>\n",
       "    <tr>\n",
       "      <th>6</th>\n",
       "      <td>Chromosome</td>\n",
       "      <td>4428031</td>\n",
       "      <td>4428222</td>\n",
       "      <td>+</td>\n",
       "      <td>biological_region</td>\n",
       "      <td>{'external_name': ['cobalamin riboswitch; ECW_...</td>\n",
       "      <td>191</td>\n",
       "    </tr>\n",
       "    <tr>\n",
       "      <th>7</th>\n",
       "      <td>Chromosome</td>\n",
       "      <td>4459904</td>\n",
       "      <td>4460005</td>\n",
       "      <td>+</td>\n",
       "      <td>biological_region</td>\n",
       "      <td>{'external_name': ['TPP riboswitch; ECW_nc4353...</td>\n",
       "      <td>101</td>\n",
       "    </tr>\n",
       "    <tr>\n",
       "      <th>8</th>\n",
       "      <td>Chromosome</td>\n",
       "      <td>4499186</td>\n",
       "      <td>4499383</td>\n",
       "      <td>+</td>\n",
       "      <td>biological_region</td>\n",
       "      <td>{'external_name': ['lysine riboswitch; ECW_nc4...</td>\n",
       "      <td>197</td>\n",
       "    </tr>\n",
       "    <tr>\n",
       "      <th>9</th>\n",
       "      <td>Chromosome</td>\n",
       "      <td>4634595</td>\n",
       "      <td>4634642</td>\n",
       "      <td>+</td>\n",
       "      <td>biological_region</td>\n",
       "      <td>{'external_name': ['putative mini-ykkC riboswi...</td>\n",
       "      <td>47</td>\n",
       "    </tr>\n",
       "  </tbody>\n",
       "</table>\n",
       "</div>"
      ],
      "text/plain": [
       "        seqid    start      end strand            feature  \\\n",
       "0  Chromosome   887177   887322      +  biological_region   \n",
       "1  Chromosome  2353927  2354024      +  biological_region   \n",
       "2  Chromosome  3398638  3398787      +  biological_region   \n",
       "6  Chromosome  4428031  4428222      +  biological_region   \n",
       "7  Chromosome  4459904  4460005      +  biological_region   \n",
       "8  Chromosome  4499186  4499383      +  biological_region   \n",
       "9  Chromosome  4634595  4634642      +  biological_region   \n",
       "\n",
       "                                          attributes  window_size  \n",
       "0  {'external_name': ['Moco RNA riboswitch'], 'lo...          145  \n",
       "1  {'external_name': ['TPP riboswitch; ECW_nc2306...           97  \n",
       "2  {'external_name': ['FMN riboswitch; ECW_nc3308...          149  \n",
       "6  {'external_name': ['cobalamin riboswitch; ECW_...          191  \n",
       "7  {'external_name': ['TPP riboswitch; ECW_nc4353...          101  \n",
       "8  {'external_name': ['lysine riboswitch; ECW_nc4...          197  \n",
       "9  {'external_name': ['putative mini-ykkC riboswi...           47  "
      ]
     },
     "execution_count": 12,
     "metadata": {},
     "output_type": "execute_result"
    }
   ],
   "source": [
    "df_ribo"
   ]
  },
  {
   "cell_type": "code",
   "execution_count": 13,
   "id": "cc457353-a4b8-4f22-ac76-3fdd70ecd5b7",
   "metadata": {},
   "outputs": [],
   "source": [
    "#TODO: run script over etnire riboswitch\n",
    "# remove duplicates\n",
    "# count how many are in non-annotated reegions\n",
    "# check if 2 in protein coding and 1 in UTR or vice versa"
   ]
  },
  {
   "cell_type": "code",
   "execution_count": 14,
   "id": "f19e4ba1-486d-4b6d-94ce-966658b88f40",
   "metadata": {},
   "outputs": [
    {
     "data": {
      "image/png": "[encoded data removed]",
      "text/plain": [
       "<Figure size 640x480 with 1 Axes>"
      ]
     },
     "metadata": {},
     "output_type": "display_data"
    },
    {
     "data": {
      "image/png": "[encoded data removed]",
      "text/plain": [
       "<Figure size 640x480 with 1 Axes>"
      ]
     },
     "metadata": {},
     "output_type": "display_data"
    },
    {
     "data": {
      "image/png": "[encoded data removed]",
      "text/plain": [
       "<Figure size 640x480 with 1 Axes>"
      ]
     },
     "metadata": {},
     "output_type": "display_data"
    },
    {
     "data": {
      "image/png": "[encoded data removed]",
      "text/plain": [
       "<Figure size 640x480 with 1 Axes>"
      ]
     },
     "metadata": {},
     "output_type": "display_data"
    },
    {
     "data": {
      "image/png": "[encoded data removed]",
      "text/plain": [
       "<Figure size 640x480 with 1 Axes>"
      ]
     },
     "metadata": {},
     "output_type": "display_data"
    },
    {
     "data": {
      "image/png": "[encoded data removed]",
      "text/plain": [
       "<Figure size 640x480 with 1 Axes>"
      ]
     },
     "metadata": {},
     "output_type": "display_data"
    },
    {
     "data": {
      "image/png": "[encoded data removed]",
      "text/plain": [
       "<Figure size 640x480 with 1 Axes>"
      ]
     },
     "metadata": {},
     "output_type": "display_data"
    }
   ],
   "source": [
    "for i, row in df_ribo.iterrows():\n",
    "    df_result = df[(df.index >= row.start) & (df.index < row.end)]\n",
    "    plt.title('Invading sequence in riboswitch region #' + str(i+1))\n",
    "    plt.axvline(x = df_result.length.mean(), color = 'r')\n",
    "    df_result.length.hist()\n",
    "    plt.show()\n",
    "    "
   ]
  },
  {
   "cell_type": "code",
   "execution_count": null,
   "id": "2c408afa-986a-4758-97a4-88cfc220dd23",
   "metadata": {},
   "outputs": [],
   "source": []
  },
  {
   "cell_type": "code",
   "execution_count": null,
   "id": "c8bba1c7-ad19-4d31-bb67-8eb679c82de9",
   "metadata": {},
   "outputs": [],
   "source": []
  },
  {
   "cell_type": "code",
   "execution_count": 15,
   "id": "659ae461-0015-4d9c-b9de-f0b39ee22430",
   "metadata": {},
   "outputs": [
    {
     "data": {
      "text/html": [
       "<div>\n",
       "<style scoped>\n",
       "    .dataframe tbody tr th:only-of-type {\n",
       "        vertical-align: middle;\n",
       "    }\n",
       "\n",
       "    .dataframe tbody tr th {\n",
       "        vertical-align: top;\n",
       "    }\n",
       "\n",
       "    .dataframe thead th {\n",
       "        text-align: right;\n",
       "    }\n",
       "</style>\n",
       "<table border=\"1\" class=\"dataframe\">\n",
       "  <thead>\n",
       "    <tr style=\"text-align: right;\">\n",
       "      <th></th>\n",
       "      <th>sd_seq</th>\n",
       "      <th>start_idx</th>\n",
       "      <th>end_idx</th>\n",
       "      <th>length</th>\n",
       "    </tr>\n",
       "  </thead>\n",
       "  <tbody>\n",
       "    <tr>\n",
       "      <th>0</th>\n",
       "      <td>AAAAAAACCACC</td>\n",
       "      <td>2331210</td>\n",
       "      <td>2331430</td>\n",
       "      <td>12</td>\n",
       "    </tr>\n",
       "    <tr>\n",
       "      <th>1</th>\n",
       "      <td>AAAAAAACCCGCC</td>\n",
       "      <td>3652321</td>\n",
       "      <td>3652543</td>\n",
       "      <td>13</td>\n",
       "    </tr>\n",
       "    <tr>\n",
       "      <th>2</th>\n",
       "      <td>AAAAAAATCCCCGGC</td>\n",
       "      <td>3374978</td>\n",
       "      <td>3375039</td>\n",
       "      <td>15</td>\n",
       "    </tr>\n",
       "    <tr>\n",
       "      <th>3</th>\n",
       "      <td>AAAAAAATCCCCGGCA</td>\n",
       "      <td>3375055</td>\n",
       "      <td>3375186</td>\n",
       "      <td>16</td>\n",
       "    </tr>\n",
       "    <tr>\n",
       "      <th>4</th>\n",
       "      <td>AAAAAACAGGAC</td>\n",
       "      <td>1093639</td>\n",
       "      <td>1093861</td>\n",
       "      <td>12</td>\n",
       "    </tr>\n",
       "    <tr>\n",
       "      <th>...</th>\n",
       "      <td>...</td>\n",
       "      <td>...</td>\n",
       "      <td>...</td>\n",
       "      <td>...</td>\n",
       "    </tr>\n",
       "    <tr>\n",
       "      <th>665</th>\n",
       "      <td>TTTTATGACCACAA</td>\n",
       "      <td>2677921</td>\n",
       "      <td>2678109</td>\n",
       "      <td>14</td>\n",
       "    </tr>\n",
       "    <tr>\n",
       "      <th>666</th>\n",
       "      <td>TTTTCTTTTATTT</td>\n",
       "      <td>3970997</td>\n",
       "      <td>3971197</td>\n",
       "      <td>13</td>\n",
       "    </tr>\n",
       "    <tr>\n",
       "      <th>667</th>\n",
       "      <td>TTTTTAAAATCA</td>\n",
       "      <td>2250246</td>\n",
       "      <td>2250329</td>\n",
       "      <td>12</td>\n",
       "    </tr>\n",
       "    <tr>\n",
       "      <th>668</th>\n",
       "      <td>TTTTTTAAAATC</td>\n",
       "      <td>2250266</td>\n",
       "      <td>2250285</td>\n",
       "      <td>12</td>\n",
       "    </tr>\n",
       "    <tr>\n",
       "      <th>669</th>\n",
       "      <td>TTTTTTAAAATCA</td>\n",
       "      <td>2250286</td>\n",
       "      <td>2250328</td>\n",
       "      <td>13</td>\n",
       "    </tr>\n",
       "  </tbody>\n",
       "</table>\n",
       "<p>670 rows × 4 columns</p>\n",
       "</div>"
      ],
      "text/plain": [
       "               sd_seq  start_idx  end_idx  length\n",
       "0        AAAAAAACCACC    2331210  2331430      12\n",
       "1       AAAAAAACCCGCC    3652321  3652543      13\n",
       "2     AAAAAAATCCCCGGC    3374978  3375039      15\n",
       "3    AAAAAAATCCCCGGCA    3375055  3375186      16\n",
       "4        AAAAAACAGGAC    1093639  1093861      12\n",
       "..                ...        ...      ...     ...\n",
       "665    TTTTATGACCACAA    2677921  2678109      14\n",
       "666     TTTTCTTTTATTT    3970997  3971197      13\n",
       "667      TTTTTAAAATCA    2250246  2250329      12\n",
       "668      TTTTTTAAAATC    2250266  2250285      12\n",
       "669     TTTTTTAAAATCA    2250286  2250328      13\n",
       "\n",
       "[670 rows x 4 columns]"
      ]
     },
     "execution_count": 15,
     "metadata": {},
     "output_type": "execute_result"
    }
   ],
   "source": [
    "longest_sd_seqs = df.nlargest(50000, 'length')\n",
    "\n",
    "# group by 'sd_seq' and aggregate 'start_idx' using the 'min' function\n",
    "min_start_idx = longest_sd_seqs.groupby('sd_seq', as_index=False)['start_idx'].min()\n",
    "\n",
    "# group by 'sd_seq' again and aggregate 'start_idx' using the 'max' function\n",
    "max_start_idx = longest_sd_seqs.groupby('sd_seq', as_index=False)['start_idx'].max()\n",
    "max_length = longest_sd_seqs.groupby('sd_seq', as_index=False)['length'].max()\n",
    "\n",
    "# merge the aggregated DataFrames on 'sd_seq' to get the desired result\n",
    "result = pd.merge(min_start_idx, max_start_idx, on='sd_seq')\n",
    "result = pd.merge(result, max_length, on='sd_seq')\n",
    "\n",
    "# rename the columns to 'start_idx' and 'end_idx'\n",
    "longest_sd_seqs = result.rename(columns={'start_idx_x': 'start_idx', 'start_idx_y': 'end_idx'})\n",
    "longest_sd_seqs"
   ]
  },
  {
   "cell_type": "code",
   "execution_count": null,
   "id": "a629a37d-071e-4d66-b1e4-a2f6a4e37225",
   "metadata": {},
   "outputs": [],
   "source": [
    "results = []\n",
    "for i, row in longest_sd_seqs.iterrows():\n",
    "    x = df2[((row.start_idx >= df2.start) & (row.start_idx <= df2.end)) | ((row.end_idx >= df2.start) & (row.end_idx <= df2.end)) ]\n",
    "    if not x.empty:\n",
    "        x['length'] = row.length\n",
    "        results.append(x)\n",
    "        \n"
   ]
  },
  {
   "cell_type": "code",
   "execution_count": 17,
   "id": "53c071e8-403e-4c08-a183-bb8efdb33e6b",
   "metadata": {},
   "outputs": [
    {
     "data": {
      "text/plain": [
       "519"
      ]
     },
     "execution_count": 17,
     "metadata": {},
     "output_type": "execute_result"
    }
   ],
   "source": [
    "len(results)"
   ]
  },
  {
   "cell_type": "code",
   "execution_count": 18,
   "id": "51812235-3010-440b-bdb8-1fae491aba27",
   "metadata": {},
   "outputs": [
    {
     "name": "stdout",
     "output_type": "stream",
     "text": [
      "519\n",
      "27\n",
      "0.05202312138728324\n"
     ]
    }
   ],
   "source": [
    "print(len(results))\n",
    "noncoding_results=[]\n",
    "for result_df in results:\n",
    "    if result_df.iloc[0].attributes.find('protein_coding') < 0:\n",
    "        # print(result_df.iloc[0].length,result_df.iloc[0].attributes)\n",
    "        noncoding_results.append(result_df.iloc[0].attributes)\n",
    "print(len(noncoding_results))\n",
    "print(len(noncoding_results) / len(results))"
   ]
  },
  {
   "cell_type": "code",
   "execution_count": null,
   "id": "ae3abdbb-e4c9-4338-9a71-2cb42e62f229",
   "metadata": {},
   "outputs": [],
   "source": []
  },
  {
   "cell_type": "code",
   "execution_count": null,
   "id": "50ce1376-4244-4254-92ea-3fe85c3b6200",
   "metadata": {},
   "outputs": [],
   "source": []
  },
  {
   "cell_type": "code",
   "execution_count": null,
   "id": "18732191-7743-4222-bc41-d34b3a228b70",
   "metadata": {},
   "outputs": [],
   "source": []
  },
  {
   "cell_type": "markdown",
   "id": "701357aa-b06a-4757-ad1e-a54a50710fb3",
   "metadata": {},
   "source": [
    "## Calculate what percentage of the genome is annotated"
   ]
  },
  {
   "cell_type": "code",
   "execution_count": null,
   "id": "156622e6-db28-4d28-a33e-ca2276b2e121",
   "metadata": {},
   "outputs": [],
   "source": []
  },
  {
   "cell_type": "code",
   "execution_count": 19,
   "id": "3ea452af-b6b9-470c-867b-6bca9e6fb35a",
   "metadata": {},
   "outputs": [],
   "source": [
    "def interval_length(df):\n",
    "    # sort the DataFrame based on the 'start' column\n",
    "    df = df.sort_values(by='start')\n",
    "\n",
    "    # initialize an empty stack\n",
    "    stack = []\n",
    "\n",
    "    # iterate through the sorted intervals\n",
    "    for i, row in df.iterrows():\n",
    "        interval = (row['start'], row['end'])\n",
    "        if not stack or interval[0] > stack[-1][1]:\n",
    "            # if the stack is empty or if the current interval does not overlap with\n",
    "            # the top interval on the stack, push the current interval onto the stack\n",
    "            stack.append(interval)\n",
    "        else:\n",
    "            # if the current interval overlaps with the top interval on the stack,\n",
    "            # merge the intervals by setting the end time of the top interval on the\n",
    "            # stack to the maximum of its current end time and the end time of the\n",
    "            # current interval\n",
    "            stack[-1] = (stack[-1][0], max(stack[-1][1], interval[1]))\n",
    "\n",
    "    # sum up the lengths of the merged intervals\n",
    "    length = sum(end - start for start, end in stack)\n",
    "\n",
    "    return stack, length\n"
   ]
  },
  {
   "cell_type": "code",
   "execution_count": 20,
   "id": "72efb1c0-2977-45ce-a1f2-37efa41fcf90",
   "metadata": {},
   "outputs": [],
   "source": [
    "df2 = df2.sort_values(by='start')\n",
    "\n",
    "# initialize an empty stack\n",
    "stack = []\n",
    "\n",
    "# iterate through the sorted intervals\n",
    "for i, row in df2.iterrows():\n",
    "    interval = (row['start'], row['end'])\n",
    "    if not stack or interval[0] > stack[-1][1]:\n",
    "        # if the stack is empty or if the current interval does not overlap with\n",
    "        # the top interval on the stack, push the current interval onto the stack\n",
    "        stack.append(interval)\n",
    "    else:\n",
    "        # if the current interval overlaps with the top interval on the stack,\n",
    "        # merge the intervals by setting the end time of the top interval on the\n",
    "        # stack to the maximum of its current end time and the end time of the\n",
    "        # current interval\n",
    "        stack[-1] = (stack[-1][0], max(stack[-1][1], interval[1]))\n",
    "\n",
    "# sum up the lengths of the merged intervals\n",
    "length = sum(end - start for start, end in stack)"
   ]
  },
  {
   "cell_type": "code",
   "execution_count": 21,
   "id": "578a19be-f59c-4c25-815f-47b561fe5d16",
   "metadata": {},
   "outputs": [],
   "source": [
    "non_annotated = set(range(4900718))\n",
    "for interval in stack:\n",
    "    start, end = interval\n",
    "    non_annotated -= set(range(start, end+1))\n"
   ]
  },
  {
   "cell_type": "code",
   "execution_count": 22,
   "id": "8bf2b530-553e-4f0b-8c7e-e86bec1e5718",
   "metadata": {},
   "outputs": [],
   "source": [
    "seqs = []\n",
    "start_idx = []\n",
    "lengths = []\n",
    "non_annotated = list(non_annotated)\n",
    "for idx in non_annotated:\n",
    "    try:\n",
    "        seq = df.iloc[idx].sd_seq\n",
    "        seqs.append(seq)\n",
    "        lengths.append(len(seq))\n",
    "        start_idx.append(idx)\n",
    "    except:\n",
    "        print(idx)"
   ]
  },
  {
   "cell_type": "code",
   "execution_count": null,
   "id": "a115b9d5-4be2-4159-8859-ba354ec6de64",
   "metadata": {},
   "outputs": [],
   "source": []
  },
  {
   "cell_type": "code",
   "execution_count": 23,
   "id": "c99c6e77-0cac-4a45-ba7a-a4d0f60cd5d4",
   "metadata": {},
   "outputs": [],
   "source": [
    "data = {'start_idx':start_idx, 'seq':seqs, 'length':lengths}\n",
    "non_annotated_df = pd.DataFrame.from_dict(data)"
   ]
  },
  {
   "cell_type": "code",
   "execution_count": 24,
   "id": "e3cdc343-6250-48f7-9bad-904f74dec91e",
   "metadata": {},
   "outputs": [
    {
     "data": {
      "text/plain": [
       "<AxesSubplot:title={'center':'Invading strand length for non-annotated regions'}>"
      ]
     },
     "execution_count": 24,
     "metadata": {},
     "output_type": "execute_result"
    },
    {
     "data": {
      "image/png": "[encoded data removed]",
      "text/plain": [
       "<Figure size 640x480 with 1 Axes>"
      ]
     },
     "metadata": {},
     "output_type": "display_data"
    }
   ],
   "source": [
    "plt.axvline(x = np.mean(non_annotated_df.length), color = 'r')\n",
    "plt.title('Invading strand length for non-annotated regions')\n",
    "non_annotated_df.drop_duplicates(subset=['seq']).length.hist()"
   ]
  },
  {
   "cell_type": "code",
   "execution_count": null,
   "id": "794b01cb-72bc-4fe9-802f-e1105c49ad75",
   "metadata": {},
   "outputs": [],
   "source": []
  },
  {
   "cell_type": "code",
   "execution_count": 25,
   "id": "43415ffb-cb9e-49c2-ad45-6d5c0391bcc9",
   "metadata": {},
   "outputs": [
    {
     "data": {
      "text/plain": [
       "0.8923306748113236"
      ]
     },
     "execution_count": 25,
     "metadata": {},
     "output_type": "execute_result"
    }
   ],
   "source": [
    "4373061/4900718"
   ]
  },
  {
   "cell_type": "code",
   "execution_count": null,
   "id": "7da047a3-446a-419c-a759-0c2b7bad8b45",
   "metadata": {},
   "outputs": [],
   "source": []
  },
  {
   "cell_type": "code",
   "execution_count": 26,
   "id": "d902e194-e822-4e68-9d20-4d9d6a82939e",
   "metadata": {},
   "outputs": [],
   "source": [
    "results_df = pd.read_csv('combine_gff_results2.csv')"
   ]
  },
  {
   "cell_type": "code",
   "execution_count": null,
   "id": "f87b0562-d4ac-482a-b878-7e6d6d7ddaa9",
   "metadata": {},
   "outputs": [],
   "source": []
  },
  {
   "cell_type": "code",
   "execution_count": 27,
   "id": "775049f6-1501-40e6-8880-a24b0a0fb1ed",
   "metadata": {},
   "outputs": [],
   "source": [
    "coding_df = results_df[results_df['attributes'].str.contains('protein_coding')]\n",
    "noncoding_df = results_df[~results_df['attributes'].str.contains('protein_coding')]"
   ]
  },
  {
   "cell_type": "code",
   "execution_count": 28,
   "id": "344d5882-685c-4a5d-941f-28095b97b6ba",
   "metadata": {},
   "outputs": [
    {
     "ename": "TypeError",
     "evalue": "unsupported operand type(s) for /: 'tuple' and 'int'",
     "output_type": "error",
     "traceback": [
      "\u001b[0;31m---------------------------------------------------------------------------\u001b[0m",
      "\u001b[0;31mTypeError\u001b[0m                                 Traceback (most recent call last)",
      "Cell \u001b[0;32mIn[28], line 1\u001b[0m\n\u001b[0;32m----> 1\u001b[0m \u001b[43minterval_length\u001b[49m\u001b[43m(\u001b[49m\u001b[43mnoncoding_df\u001b[49m\u001b[38;5;241;43m.\u001b[39;49m\u001b[43mdrop_duplicates\u001b[49m\u001b[43m(\u001b[49m\u001b[43msubset\u001b[49m\u001b[38;5;241;43m=\u001b[39;49m\u001b[43m[\u001b[49m\u001b[38;5;124;43m'\u001b[39;49m\u001b[38;5;124;43mstart\u001b[39;49m\u001b[38;5;124;43m'\u001b[39;49m\u001b[43m,\u001b[49m\u001b[38;5;124;43m'\u001b[39;49m\u001b[38;5;124;43mend\u001b[39;49m\u001b[38;5;124;43m'\u001b[39;49m\u001b[43m]\u001b[49m\u001b[43m)\u001b[49m\u001b[43m)\u001b[49m\u001b[43m \u001b[49m\u001b[38;5;241;43m/\u001b[39;49m\u001b[43m \u001b[49m\u001b[38;5;241;43m4899477\u001b[39;49m\n",
      "\u001b[0;31mTypeError\u001b[0m: unsupported operand type(s) for /: 'tuple' and 'int'"
     ]
    }
   ],
   "source": [
    "interval_length(noncoding_df.drop_duplicates(subset=['start','end'])) / 4899477"
   ]
  },
  {
   "cell_type": "code",
   "execution_count": 29,
   "id": "a44786cf-a0bc-4391-ba95-3fa110be63c4",
   "metadata": {},
   "outputs": [
    {
     "ename": "TypeError",
     "evalue": "unsupported operand type(s) for /: 'tuple' and 'int'",
     "output_type": "error",
     "traceback": [
      "\u001b[0;31m---------------------------------------------------------------------------\u001b[0m",
      "\u001b[0;31mTypeError\u001b[0m                                 Traceback (most recent call last)",
      "Cell \u001b[0;32mIn[29], line 1\u001b[0m\n\u001b[0;32m----> 1\u001b[0m \u001b[43minterval_length\u001b[49m\u001b[43m(\u001b[49m\u001b[43mcoding_df\u001b[49m\u001b[38;5;241;43m.\u001b[39;49m\u001b[43mdrop_duplicates\u001b[49m\u001b[43m(\u001b[49m\u001b[43msubset\u001b[49m\u001b[38;5;241;43m=\u001b[39;49m\u001b[43m[\u001b[49m\u001b[38;5;124;43m'\u001b[39;49m\u001b[38;5;124;43mstart\u001b[39;49m\u001b[38;5;124;43m'\u001b[39;49m\u001b[43m,\u001b[49m\u001b[38;5;124;43m'\u001b[39;49m\u001b[38;5;124;43mend\u001b[39;49m\u001b[38;5;124;43m'\u001b[39;49m\u001b[43m]\u001b[49m\u001b[43m)\u001b[49m\u001b[43m)\u001b[49m\u001b[43m \u001b[49m\u001b[38;5;241;43m/\u001b[39;49m\u001b[43m \u001b[49m\u001b[38;5;241;43m4899477\u001b[39;49m\n",
      "\u001b[0;31mTypeError\u001b[0m: unsupported operand type(s) for /: 'tuple' and 'int'"
     ]
    }
   ],
   "source": [
    "interval_length(coding_df.drop_duplicates(subset=['start','end'])) / 4899477"
   ]
  },
  {
   "cell_type": "code",
   "execution_count": 30,
   "id": "80003b1f-fbaf-4c9c-8100-d14273763064",
   "metadata": {},
   "outputs": [
    {
     "data": {
      "image/png": "[encoded data removed]",
      "text/plain": [
       "<Figure size 640x480 with 1 Axes>"
      ]
     },
     "metadata": {},
     "output_type": "display_data"
    },
    {
     "data": {
      "text/plain": [
       "<AxesSubplot:title={'center':'Invading strand length for noncoding regions'}>"
      ]
     },
     "execution_count": 30,
     "metadata": {},
     "output_type": "execute_result"
    },
    {
     "data": {
      "image/png": "[encoded data removed]",
      "text/plain": [
       "<Figure size 640x480 with 1 Axes>"
      ]
     },
     "metadata": {},
     "output_type": "display_data"
    }
   ],
   "source": [
    "coding_df = coding_df.drop_duplicates(subset=['sd_seq'])\n",
    "noncoding_df = noncoding_df.drop_duplicates(subset=['sd_seq'])\n",
    "plt.axvline(x = np.mean(coding_df.length), color = 'r')\n",
    "plt.title('Invading strand length for coding regions')\n",
    "coding_df.length.hist()\n",
    "plt.show()\n",
    "\n",
    "plt.axvline(x = np.mean(noncoding_df.length), color = 'r')\n",
    "plt.title('Invading strand length for noncoding regions')\n",
    "noncoding_df.length.hist()"
   ]
  },
  {
   "cell_type": "code",
   "execution_count": 31,
   "id": "8cd0d98a-ca52-410d-9197-8e0c1ea5995c",
   "metadata": {},
   "outputs": [
    {
     "data": {
      "text/plain": [
       "Rolling [window=100,center=False,axis=0,method=single]"
      ]
     },
     "execution_count": 31,
     "metadata": {},
     "output_type": "execute_result"
    }
   ],
   "source": [
    "df_distinct.sort_index().reset_index(drop=True)['length'].rolling(100)"
   ]
  },
  {
   "cell_type": "code",
   "execution_count": null,
   "id": "64ca2bee-ba24-4589-bfe1-ef14dcc52d86",
   "metadata": {},
   "outputs": [],
   "source": []
  },
  {
   "cell_type": "code",
   "execution_count": 32,
   "id": "58e36a06-6e1f-46cb-a08b-ca60cc43fe43",
   "metadata": {},
   "outputs": [
    {
     "data": {
      "image/png": "[encoded data removed]",
      "text/plain": [
       "<Figure size 640x480 with 1 Axes>"
      ]
     },
     "metadata": {},
     "output_type": "display_data"
    },
    {
     "ename": "ValueError",
     "evalue": "Could not interpret value `length_smooth` for parameter `y`",
     "output_type": "error",
     "traceback": [
      "\u001b[0;31m---------------------------------------------------------------------------\u001b[0m",
      "\u001b[0;31mValueError\u001b[0m                                Traceback (most recent call last)",
      "Cell \u001b[0;32mIn[32], line 12\u001b[0m\n\u001b[1;32m     10\u001b[0m plt\u001b[38;5;241m.\u001b[39mshow()\n\u001b[1;32m     11\u001b[0m plt\u001b[38;5;241m.\u001b[39mtitle(\u001b[38;5;124m'\u001b[39m\u001b[38;5;124mBinned plot\u001b[39m\u001b[38;5;124m'\u001b[39m)\n\u001b[0;32m---> 12\u001b[0m \u001b[43msns\u001b[49m\u001b[38;5;241;43m.\u001b[39;49m\u001b[43mlineplot\u001b[49m\u001b[43m(\u001b[49m\u001b[43mdata\u001b[49m\u001b[38;5;241;43m=\u001b[39;49m\u001b[43mdf_distinct\u001b[49m\u001b[43m,\u001b[49m\u001b[43m \u001b[49m\u001b[43mx\u001b[49m\u001b[38;5;241;43m=\u001b[39;49m\u001b[38;5;124;43m'\u001b[39;49m\u001b[38;5;124;43mstart_idx\u001b[39;49m\u001b[38;5;124;43m'\u001b[39;49m\u001b[43m,\u001b[49m\u001b[43m \u001b[49m\u001b[43my\u001b[49m\u001b[38;5;241;43m=\u001b[39;49m\u001b[38;5;124;43m'\u001b[39;49m\u001b[38;5;124;43mlength_smooth\u001b[39;49m\u001b[38;5;124;43m'\u001b[39;49m\u001b[43m)\u001b[49m\n",
      "File \u001b[0;32m~/miniconda3/envs/aptamer/lib/python3.10/site-packages/seaborn/relational.py:618\u001b[0m, in \u001b[0;36mlineplot\u001b[0;34m(data, x, y, hue, size, style, units, palette, hue_order, hue_norm, sizes, size_order, size_norm, dashes, markers, style_order, estimator, errorbar, n_boot, seed, orient, sort, err_style, err_kws, legend, ci, ax, **kwargs)\u001b[0m\n\u001b[1;32m    615\u001b[0m errorbar \u001b[38;5;241m=\u001b[39m _deprecate_ci(errorbar, ci)\n\u001b[1;32m    617\u001b[0m variables \u001b[38;5;241m=\u001b[39m _LinePlotter\u001b[38;5;241m.\u001b[39mget_semantics(\u001b[38;5;28mlocals\u001b[39m())\n\u001b[0;32m--> 618\u001b[0m p \u001b[38;5;241m=\u001b[39m \u001b[43m_LinePlotter\u001b[49m\u001b[43m(\u001b[49m\n\u001b[1;32m    619\u001b[0m \u001b[43m    \u001b[49m\u001b[43mdata\u001b[49m\u001b[38;5;241;43m=\u001b[39;49m\u001b[43mdata\u001b[49m\u001b[43m,\u001b[49m\u001b[43m \u001b[49m\u001b[43mvariables\u001b[49m\u001b[38;5;241;43m=\u001b[39;49m\u001b[43mvariables\u001b[49m\u001b[43m,\u001b[49m\n\u001b[1;32m    620\u001b[0m \u001b[43m    \u001b[49m\u001b[43mestimator\u001b[49m\u001b[38;5;241;43m=\u001b[39;49m\u001b[43mestimator\u001b[49m\u001b[43m,\u001b[49m\u001b[43m \u001b[49m\u001b[43mn_boot\u001b[49m\u001b[38;5;241;43m=\u001b[39;49m\u001b[43mn_boot\u001b[49m\u001b[43m,\u001b[49m\u001b[43m \u001b[49m\u001b[43mseed\u001b[49m\u001b[38;5;241;43m=\u001b[39;49m\u001b[43mseed\u001b[49m\u001b[43m,\u001b[49m\u001b[43m \u001b[49m\u001b[43merrorbar\u001b[49m\u001b[38;5;241;43m=\u001b[39;49m\u001b[43merrorbar\u001b[49m\u001b[43m,\u001b[49m\n\u001b[1;32m    621\u001b[0m \u001b[43m    \u001b[49m\u001b[43msort\u001b[49m\u001b[38;5;241;43m=\u001b[39;49m\u001b[43msort\u001b[49m\u001b[43m,\u001b[49m\u001b[43m \u001b[49m\u001b[43morient\u001b[49m\u001b[38;5;241;43m=\u001b[39;49m\u001b[43morient\u001b[49m\u001b[43m,\u001b[49m\u001b[43m \u001b[49m\u001b[43merr_style\u001b[49m\u001b[38;5;241;43m=\u001b[39;49m\u001b[43merr_style\u001b[49m\u001b[43m,\u001b[49m\u001b[43m \u001b[49m\u001b[43merr_kws\u001b[49m\u001b[38;5;241;43m=\u001b[39;49m\u001b[43merr_kws\u001b[49m\u001b[43m,\u001b[49m\n\u001b[1;32m    622\u001b[0m \u001b[43m    \u001b[49m\u001b[43mlegend\u001b[49m\u001b[38;5;241;43m=\u001b[39;49m\u001b[43mlegend\u001b[49m\u001b[43m,\u001b[49m\n\u001b[1;32m    623\u001b[0m \u001b[43m\u001b[49m\u001b[43m)\u001b[49m\n\u001b[1;32m    625\u001b[0m p\u001b[38;5;241m.\u001b[39mmap_hue(palette\u001b[38;5;241m=\u001b[39mpalette, order\u001b[38;5;241m=\u001b[39mhue_order, norm\u001b[38;5;241m=\u001b[39mhue_norm)\n\u001b[1;32m    626\u001b[0m p\u001b[38;5;241m.\u001b[39mmap_size(sizes\u001b[38;5;241m=\u001b[39msizes, order\u001b[38;5;241m=\u001b[39msize_order, norm\u001b[38;5;241m=\u001b[39msize_norm)\n",
      "File \u001b[0;32m~/miniconda3/envs/aptamer/lib/python3.10/site-packages/seaborn/relational.py:365\u001b[0m, in \u001b[0;36m_LinePlotter.__init__\u001b[0;34m(self, data, variables, estimator, n_boot, seed, errorbar, sort, orient, err_style, err_kws, legend)\u001b[0m\n\u001b[1;32m    351\u001b[0m \u001b[38;5;28;01mdef\u001b[39;00m \u001b[38;5;21m__init__\u001b[39m(\n\u001b[1;32m    352\u001b[0m     \u001b[38;5;28mself\u001b[39m, \u001b[38;5;241m*\u001b[39m,\n\u001b[1;32m    353\u001b[0m     data\u001b[38;5;241m=\u001b[39m\u001b[38;5;28;01mNone\u001b[39;00m, variables\u001b[38;5;241m=\u001b[39m{},\n\u001b[0;32m   (...)\u001b[0m\n\u001b[1;32m    359\u001b[0m     \u001b[38;5;66;03m# the kind of plot to draw, but for the time being we need to set\u001b[39;00m\n\u001b[1;32m    360\u001b[0m     \u001b[38;5;66;03m# this information so the SizeMapping can use it\u001b[39;00m\n\u001b[1;32m    361\u001b[0m     \u001b[38;5;28mself\u001b[39m\u001b[38;5;241m.\u001b[39m_default_size_range \u001b[38;5;241m=\u001b[39m (\n\u001b[1;32m    362\u001b[0m         np\u001b[38;5;241m.\u001b[39mr_[\u001b[38;5;241m.5\u001b[39m, \u001b[38;5;241m2\u001b[39m] \u001b[38;5;241m*\u001b[39m mpl\u001b[38;5;241m.\u001b[39mrcParams[\u001b[38;5;124m\"\u001b[39m\u001b[38;5;124mlines.linewidth\u001b[39m\u001b[38;5;124m\"\u001b[39m]\n\u001b[1;32m    363\u001b[0m     )\n\u001b[0;32m--> 365\u001b[0m     \u001b[38;5;28;43msuper\u001b[39;49m\u001b[43m(\u001b[49m\u001b[43m)\u001b[49m\u001b[38;5;241;43m.\u001b[39;49m\u001b[38;5;21;43m__init__\u001b[39;49m\u001b[43m(\u001b[49m\u001b[43mdata\u001b[49m\u001b[38;5;241;43m=\u001b[39;49m\u001b[43mdata\u001b[49m\u001b[43m,\u001b[49m\u001b[43m \u001b[49m\u001b[43mvariables\u001b[49m\u001b[38;5;241;43m=\u001b[39;49m\u001b[43mvariables\u001b[49m\u001b[43m)\u001b[49m\n\u001b[1;32m    367\u001b[0m     \u001b[38;5;28mself\u001b[39m\u001b[38;5;241m.\u001b[39mestimator \u001b[38;5;241m=\u001b[39m estimator\n\u001b[1;32m    368\u001b[0m     \u001b[38;5;28mself\u001b[39m\u001b[38;5;241m.\u001b[39merrorbar \u001b[38;5;241m=\u001b[39m errorbar\n",
      "File \u001b[0;32m~/miniconda3/envs/aptamer/lib/python3.10/site-packages/seaborn/_oldcore.py:640\u001b[0m, in \u001b[0;36mVectorPlotter.__init__\u001b[0;34m(self, data, variables)\u001b[0m\n\u001b[1;32m    635\u001b[0m \u001b[38;5;66;03m# var_ordered is relevant only for categorical axis variables, and may\u001b[39;00m\n\u001b[1;32m    636\u001b[0m \u001b[38;5;66;03m# be better handled by an internal axis information object that tracks\u001b[39;00m\n\u001b[1;32m    637\u001b[0m \u001b[38;5;66;03m# such information and is set up by the scale_* methods. The analogous\u001b[39;00m\n\u001b[1;32m    638\u001b[0m \u001b[38;5;66;03m# information for numeric axes would be information about log scales.\u001b[39;00m\n\u001b[1;32m    639\u001b[0m \u001b[38;5;28mself\u001b[39m\u001b[38;5;241m.\u001b[39m_var_ordered \u001b[38;5;241m=\u001b[39m {\u001b[38;5;124m\"\u001b[39m\u001b[38;5;124mx\u001b[39m\u001b[38;5;124m\"\u001b[39m: \u001b[38;5;28;01mFalse\u001b[39;00m, \u001b[38;5;124m\"\u001b[39m\u001b[38;5;124my\u001b[39m\u001b[38;5;124m\"\u001b[39m: \u001b[38;5;28;01mFalse\u001b[39;00m}  \u001b[38;5;66;03m# alt., used DefaultDict\u001b[39;00m\n\u001b[0;32m--> 640\u001b[0m \u001b[38;5;28;43mself\u001b[39;49m\u001b[38;5;241;43m.\u001b[39;49m\u001b[43massign_variables\u001b[49m\u001b[43m(\u001b[49m\u001b[43mdata\u001b[49m\u001b[43m,\u001b[49m\u001b[43m \u001b[49m\u001b[43mvariables\u001b[49m\u001b[43m)\u001b[49m\n\u001b[1;32m    642\u001b[0m \u001b[38;5;28;01mfor\u001b[39;00m var, \u001b[38;5;28mcls\u001b[39m \u001b[38;5;129;01min\u001b[39;00m \u001b[38;5;28mself\u001b[39m\u001b[38;5;241m.\u001b[39m_semantic_mappings\u001b[38;5;241m.\u001b[39mitems():\n\u001b[1;32m    643\u001b[0m \n\u001b[1;32m    644\u001b[0m     \u001b[38;5;66;03m# Create the mapping function\u001b[39;00m\n\u001b[1;32m    645\u001b[0m     map_func \u001b[38;5;241m=\u001b[39m partial(\u001b[38;5;28mcls\u001b[39m\u001b[38;5;241m.\u001b[39mmap, plotter\u001b[38;5;241m=\u001b[39m\u001b[38;5;28mself\u001b[39m)\n",
      "File \u001b[0;32m~/miniconda3/envs/aptamer/lib/python3.10/site-packages/seaborn/_oldcore.py:701\u001b[0m, in \u001b[0;36mVectorPlotter.assign_variables\u001b[0;34m(self, data, variables)\u001b[0m\n\u001b[1;32m    699\u001b[0m \u001b[38;5;28;01melse\u001b[39;00m:\n\u001b[1;32m    700\u001b[0m     \u001b[38;5;28mself\u001b[39m\u001b[38;5;241m.\u001b[39minput_format \u001b[38;5;241m=\u001b[39m \u001b[38;5;124m\"\u001b[39m\u001b[38;5;124mlong\u001b[39m\u001b[38;5;124m\"\u001b[39m\n\u001b[0;32m--> 701\u001b[0m     plot_data, variables \u001b[38;5;241m=\u001b[39m \u001b[38;5;28;43mself\u001b[39;49m\u001b[38;5;241;43m.\u001b[39;49m\u001b[43m_assign_variables_longform\u001b[49m\u001b[43m(\u001b[49m\n\u001b[1;32m    702\u001b[0m \u001b[43m        \u001b[49m\u001b[43mdata\u001b[49m\u001b[43m,\u001b[49m\u001b[43m \u001b[49m\u001b[38;5;241;43m*\u001b[39;49m\u001b[38;5;241;43m*\u001b[39;49m\u001b[43mvariables\u001b[49m\u001b[43m,\u001b[49m\n\u001b[1;32m    703\u001b[0m \u001b[43m    \u001b[49m\u001b[43m)\u001b[49m\n\u001b[1;32m    705\u001b[0m \u001b[38;5;28mself\u001b[39m\u001b[38;5;241m.\u001b[39mplot_data \u001b[38;5;241m=\u001b[39m plot_data\n\u001b[1;32m    706\u001b[0m \u001b[38;5;28mself\u001b[39m\u001b[38;5;241m.\u001b[39mvariables \u001b[38;5;241m=\u001b[39m variables\n",
      "File \u001b[0;32m~/miniconda3/envs/aptamer/lib/python3.10/site-packages/seaborn/_oldcore.py:938\u001b[0m, in \u001b[0;36mVectorPlotter._assign_variables_longform\u001b[0;34m(self, data, **kwargs)\u001b[0m\n\u001b[1;32m    933\u001b[0m \u001b[38;5;28;01melif\u001b[39;00m \u001b[38;5;28misinstance\u001b[39m(val, (\u001b[38;5;28mstr\u001b[39m, \u001b[38;5;28mbytes\u001b[39m)):\n\u001b[1;32m    934\u001b[0m \n\u001b[1;32m    935\u001b[0m     \u001b[38;5;66;03m# This looks like a column name but we don't know what it means!\u001b[39;00m\n\u001b[1;32m    937\u001b[0m     err \u001b[38;5;241m=\u001b[39m \u001b[38;5;124mf\u001b[39m\u001b[38;5;124m\"\u001b[39m\u001b[38;5;124mCould not interpret value `\u001b[39m\u001b[38;5;132;01m{\u001b[39;00mval\u001b[38;5;132;01m}\u001b[39;00m\u001b[38;5;124m` for parameter `\u001b[39m\u001b[38;5;132;01m{\u001b[39;00mkey\u001b[38;5;132;01m}\u001b[39;00m\u001b[38;5;124m`\u001b[39m\u001b[38;5;124m\"\u001b[39m\n\u001b[0;32m--> 938\u001b[0m     \u001b[38;5;28;01mraise\u001b[39;00m \u001b[38;5;167;01mValueError\u001b[39;00m(err)\n\u001b[1;32m    940\u001b[0m \u001b[38;5;28;01melse\u001b[39;00m:\n\u001b[1;32m    941\u001b[0m \n\u001b[1;32m    942\u001b[0m     \u001b[38;5;66;03m# Otherwise, assume the value is itself data\u001b[39;00m\n\u001b[1;32m    943\u001b[0m \n\u001b[1;32m    944\u001b[0m     \u001b[38;5;66;03m# Raise when data object is present and a vector can't matched\u001b[39;00m\n\u001b[1;32m    945\u001b[0m     \u001b[38;5;28;01mif\u001b[39;00m \u001b[38;5;28misinstance\u001b[39m(data, pd\u001b[38;5;241m.\u001b[39mDataFrame) \u001b[38;5;129;01mand\u001b[39;00m \u001b[38;5;129;01mnot\u001b[39;00m \u001b[38;5;28misinstance\u001b[39m(val, pd\u001b[38;5;241m.\u001b[39mSeries):\n",
      "\u001b[0;31mValueError\u001b[0m: Could not interpret value `length_smooth` for parameter `y`"
     ]
    },
    {
     "data": {
      "image/png": "[encoded data removed]",
      "text/plain": [
       "<Figure size 640x480 with 1 Axes>"
      ]
     },
     "metadata": {},
     "output_type": "display_data"
    }
   ],
   "source": [
    "# Define the size of the rolling window\n",
    "window_size = 100000\n",
    "\n",
    "# Apply a rolling window to the length data\n",
    "df['length_smooth'] = df.sort_index().reset_index(drop=True)['length'].rolling(1).mean()\n",
    "\n",
    "# Plot the smoothed data using SNS lineplot\n",
    "plt.title('Raw plot of invading strand lengths across genome')\n",
    "sns.lineplot(data=df_distinct, x='start_idx', y='length')\n",
    "plt.show()\n",
    "plt.title('Binned plot')\n",
    "sns.lineplot(data=df_distinct, x='start_idx', y='length_smooth')"
   ]
  },
  {
   "cell_type": "code",
   "execution_count": null,
   "id": "67d6aa26-641c-44b5-9310-5d273d092480",
   "metadata": {},
   "outputs": [],
   "source": []
  },
  {
   "cell_type": "code",
   "execution_count": 33,
   "id": "46476ed5-e394-4bf6-a0f5-eda3c5f82681",
   "metadata": {},
   "outputs": [
    {
     "data": {
      "text/plain": [
       "<AxesSubplot:xlabel='start_idx', ylabel='length'>"
      ]
     },
     "execution_count": 33,
     "metadata": {},
     "output_type": "execute_result"
    },
    {
     "data": {
      "image/png": "[encoded data removed]",
      "text/plain": [
       "<Figure size 640x480 with 1 Axes>"
      ]
     },
     "metadata": {},
     "output_type": "display_data"
    }
   ],
   "source": [
    "sns.kdeplot(data=df_distinct[:10000], x='start_idx', y='length')"
   ]
  },
  {
   "cell_type": "code",
   "execution_count": 34,
   "id": "4a628532-bf95-4f0f-9162-119787206eb9",
   "metadata": {},
   "outputs": [
    {
     "ename": "AttributeError",
     "evalue": "module 'seaborn' has no attribute 'smoothplot'",
     "output_type": "error",
     "traceback": [
      "\u001b[0;31m---------------------------------------------------------------------------\u001b[0m",
      "\u001b[0;31mAttributeError\u001b[0m                            Traceback (most recent call last)",
      "Cell \u001b[0;32mIn[34], line 1\u001b[0m\n\u001b[0;32m----> 1\u001b[0m \u001b[43msns\u001b[49m\u001b[38;5;241;43m.\u001b[39;49m\u001b[43msmoothplot\u001b[49m(data\u001b[38;5;241m=\u001b[39mdf[:\u001b[38;5;241m100\u001b[39m], x\u001b[38;5;241m=\u001b[39m\u001b[38;5;124m'\u001b[39m\u001b[38;5;124mstart_idx\u001b[39m\u001b[38;5;124m'\u001b[39m, y\u001b[38;5;241m=\u001b[39m\u001b[38;5;124m'\u001b[39m\u001b[38;5;124mlength\u001b[39m\u001b[38;5;124m'\u001b[39m)\n",
      "\u001b[0;31mAttributeError\u001b[0m: module 'seaborn' has no attribute 'smoothplot'"
     ]
    }
   ],
   "source": [
    "sns.smoothplot(data=df[:100], x='start_idx', y='length')"
   ]
  },
  {
   "cell_type": "code",
   "execution_count": null,
   "id": "84d23e1d-df26-45a0-99ab-07d79f0f0e2f",
   "metadata": {},
   "outputs": [],
   "source": [
    "sns.splineplot(data=df[:100], x='start_idx', y='length')"
   ]
  },
  {
   "cell_type": "code",
   "execution_count": null,
   "id": "934e2952-bd66-4acb-a856-a29107df17f5",
   "metadata": {},
   "outputs": [],
   "source": [
    "# plt.title('Violin plot ')\n",
    "sns.violinplot(x=df_distinct['length'])\n"
   ]
  },
  {
   "cell_type": "code",
   "execution_count": null,
   "id": "ca88eaa7-d3fb-47c3-8132-5cc5e3a31910",
   "metadata": {},
   "outputs": [],
   "source": []
  },
  {
   "cell_type": "code",
   "execution_count": null,
   "id": "45195774-5837-4959-ba51-8cd6a28a0d90",
   "metadata": {},
   "outputs": [],
   "source": []
  },
  {
   "cell_type": "code",
   "execution_count": null,
   "id": "4ccc2d8c-dd4b-4a1f-9cdc-592230be14d2",
   "metadata": {},
   "outputs": [],
   "source": [
    "df2"
   ]
  },
  {
   "cell_type": "code",
   "execution_count": null,
   "id": "b0e5e015-5376-412c-835f-40f1091c2c7d",
   "metadata": {},
   "outputs": [],
   "source": [
    "df"
   ]
  },
  {
   "cell_type": "code",
   "execution_count": 98,
   "id": "0970e566-8c0c-4e0c-83b2-2c68d8ad5e87",
   "metadata": {},
   "outputs": [],
   "source": [
    "coding_stack = interval_length(coding_df.drop_duplicates(subset=['start','end']))[0]\n",
    "noncoding_stack = interval_length(noncoding_df.drop_duplicates(subset=['start','end']))[0]"
   ]
  },
  {
   "cell_type": "code",
   "execution_count": 156,
   "id": "ae60b6f9-bca0-48a1-aecb-4fad81695c10",
   "metadata": {},
   "outputs": [],
   "source": [
    "df['coding_region'] = 0\n",
    "df['noncoding_region'] = 0"
   ]
  },
  {
   "cell_type": "code",
   "execution_count": 121,
   "id": "a0561b9d-6bd6-44d0-a361-eb43031baab5",
   "metadata": {},
   "outputs": [],
   "source": [
    "coding_table = {}\n",
    "for interval in coding_stack:\n",
    "    for i in range(interval[0], interval[1]+1):\n",
    "        coding_table[i] = 1\n",
    "        \n",
    "noncoding_table = {}\n",
    "for interval in noncoding_stack:\n",
    "    for i in range(interval[0], interval[1]+1):\n",
    "        noncoding_table[i] = 1"
   ]
  },
  {
   "cell_type": "code",
   "execution_count": 122,
   "id": "ffbc90fb-792e-4652-9aa0-0213b0fb5c5e",
   "metadata": {},
   "outputs": [],
   "source": [
    "def set_coding_region(idx):\n",
    "    return 1 if idx in coding_table else 0\n",
    "def set_noncoding_region(idx):\n",
    "    return 1 if idx in noncoding_table else 0\n"
   ]
  },
  {
   "cell_type": "code",
   "execution_count": 157,
   "id": "6fef76af-bd55-4018-a4dd-867c3338e4df",
   "metadata": {},
   "outputs": [],
   "source": [
    "df['coding_region'] = df['start_idx'].apply(set_coding_region)\n",
    "df['noncoding_region'] = df['start_idx'].apply(set_noncoding_region)\n"
   ]
  },
  {
   "cell_type": "code",
   "execution_count": null,
   "id": "ede3a48d-8225-4cdc-87e7-4c76ffb22e21",
   "metadata": {},
   "outputs": [],
   "source": []
  },
  {
   "cell_type": "code",
   "execution_count": 158,
   "id": "79bc35f5-ca21-4e52-a3ad-bef57985edcc",
   "metadata": {},
   "outputs": [
    {
     "data": {
      "text/html": [
       "<div>\n",
       "<style scoped>\n",
       "    .dataframe tbody tr th:only-of-type {\n",
       "        vertical-align: middle;\n",
       "    }\n",
       "\n",
       "    .dataframe tbody tr th {\n",
       "        vertical-align: top;\n",
       "    }\n",
       "\n",
       "    .dataframe thead th {\n",
       "        text-align: right;\n",
       "    }\n",
       "</style>\n",
       "<table border=\"1\" class=\"dataframe\">\n",
       "  <thead>\n",
       "    <tr style=\"text-align: right;\">\n",
       "      <th></th>\n",
       "      <th>length</th>\n",
       "      <th>sd_seq</th>\n",
       "      <th>start_idx</th>\n",
       "      <th>coding_region</th>\n",
       "      <th>noncoding_region</th>\n",
       "    </tr>\n",
       "    <tr>\n",
       "      <th>start_idx</th>\n",
       "      <th></th>\n",
       "      <th></th>\n",
       "      <th></th>\n",
       "      <th></th>\n",
       "      <th></th>\n",
       "    </tr>\n",
       "  </thead>\n",
       "  <tbody>\n",
       "    <tr>\n",
       "      <th>180</th>\n",
       "      <td>13</td>\n",
       "      <td>AAAAAAGCCCGCA</td>\n",
       "      <td>180</td>\n",
       "      <td>0</td>\n",
       "      <td>0</td>\n",
       "    </tr>\n",
       "    <tr>\n",
       "      <th>181</th>\n",
       "      <td>13</td>\n",
       "      <td>AAAAAAGCCCGCA</td>\n",
       "      <td>181</td>\n",
       "      <td>0</td>\n",
       "      <td>0</td>\n",
       "    </tr>\n",
       "    <tr>\n",
       "      <th>182</th>\n",
       "      <td>13</td>\n",
       "      <td>AAAAAAGCCCGCA</td>\n",
       "      <td>182</td>\n",
       "      <td>0</td>\n",
       "      <td>0</td>\n",
       "    </tr>\n",
       "    <tr>\n",
       "      <th>183</th>\n",
       "      <td>13</td>\n",
       "      <td>AAAAAAGCCCGCA</td>\n",
       "      <td>183</td>\n",
       "      <td>0</td>\n",
       "      <td>0</td>\n",
       "    </tr>\n",
       "    <tr>\n",
       "      <th>184</th>\n",
       "      <td>13</td>\n",
       "      <td>AAAAAAGCCCGCA</td>\n",
       "      <td>184</td>\n",
       "      <td>0</td>\n",
       "      <td>0</td>\n",
       "    </tr>\n",
       "    <tr>\n",
       "      <th>185</th>\n",
       "      <td>13</td>\n",
       "      <td>AAAAAAGCCCGCA</td>\n",
       "      <td>185</td>\n",
       "      <td>0</td>\n",
       "      <td>0</td>\n",
       "    </tr>\n",
       "    <tr>\n",
       "      <th>186</th>\n",
       "      <td>13</td>\n",
       "      <td>AAAAAAGCCCGCA</td>\n",
       "      <td>186</td>\n",
       "      <td>0</td>\n",
       "      <td>0</td>\n",
       "    </tr>\n",
       "    <tr>\n",
       "      <th>187</th>\n",
       "      <td>13</td>\n",
       "      <td>AAAAAAGCCCGCA</td>\n",
       "      <td>187</td>\n",
       "      <td>0</td>\n",
       "      <td>0</td>\n",
       "    </tr>\n",
       "    <tr>\n",
       "      <th>188</th>\n",
       "      <td>13</td>\n",
       "      <td>AAAAAAGCCCGCA</td>\n",
       "      <td>188</td>\n",
       "      <td>0</td>\n",
       "      <td>0</td>\n",
       "    </tr>\n",
       "    <tr>\n",
       "      <th>189</th>\n",
       "      <td>13</td>\n",
       "      <td>AAAAAAGCCCGCA</td>\n",
       "      <td>189</td>\n",
       "      <td>1</td>\n",
       "      <td>0</td>\n",
       "    </tr>\n",
       "    <tr>\n",
       "      <th>190</th>\n",
       "      <td>13</td>\n",
       "      <td>AAAAAAGCCCGCA</td>\n",
       "      <td>190</td>\n",
       "      <td>1</td>\n",
       "      <td>0</td>\n",
       "    </tr>\n",
       "    <tr>\n",
       "      <th>191</th>\n",
       "      <td>13</td>\n",
       "      <td>AAAAAAGCCCGCA</td>\n",
       "      <td>191</td>\n",
       "      <td>1</td>\n",
       "      <td>0</td>\n",
       "    </tr>\n",
       "    <tr>\n",
       "      <th>192</th>\n",
       "      <td>13</td>\n",
       "      <td>AAAAAAGCCCGCA</td>\n",
       "      <td>192</td>\n",
       "      <td>1</td>\n",
       "      <td>0</td>\n",
       "    </tr>\n",
       "    <tr>\n",
       "      <th>193</th>\n",
       "      <td>13</td>\n",
       "      <td>AAAAAAGCCCGCA</td>\n",
       "      <td>193</td>\n",
       "      <td>1</td>\n",
       "      <td>0</td>\n",
       "    </tr>\n",
       "    <tr>\n",
       "      <th>194</th>\n",
       "      <td>13</td>\n",
       "      <td>AAAAAAGCCCGCA</td>\n",
       "      <td>194</td>\n",
       "      <td>1</td>\n",
       "      <td>0</td>\n",
       "    </tr>\n",
       "    <tr>\n",
       "      <th>195</th>\n",
       "      <td>13</td>\n",
       "      <td>AAAAAAGCCCGCA</td>\n",
       "      <td>195</td>\n",
       "      <td>1</td>\n",
       "      <td>0</td>\n",
       "    </tr>\n",
       "    <tr>\n",
       "      <th>196</th>\n",
       "      <td>13</td>\n",
       "      <td>AAAAAAGCCCGCA</td>\n",
       "      <td>196</td>\n",
       "      <td>1</td>\n",
       "      <td>0</td>\n",
       "    </tr>\n",
       "    <tr>\n",
       "      <th>197</th>\n",
       "      <td>13</td>\n",
       "      <td>AAAAAAGCCCGCA</td>\n",
       "      <td>197</td>\n",
       "      <td>1</td>\n",
       "      <td>0</td>\n",
       "    </tr>\n",
       "    <tr>\n",
       "      <th>198</th>\n",
       "      <td>13</td>\n",
       "      <td>AAAAAAGCCCGCA</td>\n",
       "      <td>198</td>\n",
       "      <td>1</td>\n",
       "      <td>0</td>\n",
       "    </tr>\n",
       "    <tr>\n",
       "      <th>199</th>\n",
       "      <td>13</td>\n",
       "      <td>AAAAAAGCCCGCA</td>\n",
       "      <td>199</td>\n",
       "      <td>1</td>\n",
       "      <td>0</td>\n",
       "    </tr>\n",
       "  </tbody>\n",
       "</table>\n",
       "</div>"
      ],
      "text/plain": [
       "           length         sd_seq  start_idx  coding_region  noncoding_region\n",
       "start_idx                                                                   \n",
       "180            13  AAAAAAGCCCGCA        180              0                 0\n",
       "181            13  AAAAAAGCCCGCA        181              0                 0\n",
       "182            13  AAAAAAGCCCGCA        182              0                 0\n",
       "183            13  AAAAAAGCCCGCA        183              0                 0\n",
       "184            13  AAAAAAGCCCGCA        184              0                 0\n",
       "185            13  AAAAAAGCCCGCA        185              0                 0\n",
       "186            13  AAAAAAGCCCGCA        186              0                 0\n",
       "187            13  AAAAAAGCCCGCA        187              0                 0\n",
       "188            13  AAAAAAGCCCGCA        188              0                 0\n",
       "189            13  AAAAAAGCCCGCA        189              1                 0\n",
       "190            13  AAAAAAGCCCGCA        190              1                 0\n",
       "191            13  AAAAAAGCCCGCA        191              1                 0\n",
       "192            13  AAAAAAGCCCGCA        192              1                 0\n",
       "193            13  AAAAAAGCCCGCA        193              1                 0\n",
       "194            13  AAAAAAGCCCGCA        194              1                 0\n",
       "195            13  AAAAAAGCCCGCA        195              1                 0\n",
       "196            13  AAAAAAGCCCGCA        196              1                 0\n",
       "197            13  AAAAAAGCCCGCA        197              1                 0\n",
       "198            13  AAAAAAGCCCGCA        198              1                 0\n",
       "199            13  AAAAAAGCCCGCA        199              1                 0"
      ]
     },
     "execution_count": 158,
     "metadata": {},
     "output_type": "execute_result"
    }
   ],
   "source": [
    "df[180:200]"
   ]
  },
  {
   "cell_type": "code",
   "execution_count": 103,
   "id": "4f3ae8d3-64d3-4a70-8637-774727cbb788",
   "metadata": {},
   "outputs": [
    {
     "data": {
      "text/html": [
       "<div>\n",
       "<style scoped>\n",
       "    .dataframe tbody tr th:only-of-type {\n",
       "        vertical-align: middle;\n",
       "    }\n",
       "\n",
       "    .dataframe tbody tr th {\n",
       "        vertical-align: top;\n",
       "    }\n",
       "\n",
       "    .dataframe thead th {\n",
       "        text-align: right;\n",
       "    }\n",
       "</style>\n",
       "<table border=\"1\" class=\"dataframe\">\n",
       "  <thead>\n",
       "    <tr style=\"text-align: right;\">\n",
       "      <th></th>\n",
       "      <th>length</th>\n",
       "      <th>sd_seq</th>\n",
       "      <th>start_idx</th>\n",
       "      <th>length_smooth</th>\n",
       "      <th>coding_region</th>\n",
       "      <th>noncoding_region</th>\n",
       "    </tr>\n",
       "    <tr>\n",
       "      <th>start_idx</th>\n",
       "      <th></th>\n",
       "      <th></th>\n",
       "      <th></th>\n",
       "      <th></th>\n",
       "      <th></th>\n",
       "      <th></th>\n",
       "    </tr>\n",
       "  </thead>\n",
       "  <tbody>\n",
       "  </tbody>\n",
       "</table>\n",
       "</div>"
      ],
      "text/plain": [
       "Empty DataFrame\n",
       "Columns: [length, sd_seq, start_idx, length_smooth, coding_region, noncoding_region]\n",
       "Index: []"
      ]
     },
     "execution_count": 103,
     "metadata": {},
     "output_type": "execute_result"
    }
   ],
   "source": [
    "df[df['coding_region'] == 1]"
   ]
  },
  {
   "cell_type": "code",
   "execution_count": 41,
   "id": "d95f275d-bb5c-47b0-99f0-7c76c0af8c76",
   "metadata": {},
   "outputs": [],
   "source": [
    "def extend_contiguous_stretches(df, n):\n",
    "    # identify contiguous stretches of 1's\n",
    "    is_contiguous_1 = df['coding_region'].ne(df['coding_region'].shift()) & df['coding_region'].eq(1)\n",
    "    contiguous_groups = is_contiguous_1.cumsum()[is_contiguous_1]\n",
    "\n",
    "    # extend each stretch by n values on either side\n",
    "    for group in contiguous_groups:\n",
    "        group_start = df.index.get_loc(df[df['coding_region'].eq(1)].iloc[group].name)\n",
    "        group_end = df.index.get_loc(df[df['coding_region'].eq(1)].iloc[group+1].name)-1 if group < len(contiguous_groups)-1 else len(df)-1\n",
    "        start_idx = max(0, group_start-n)\n",
    "        end_idx = min(len(df), group_end+n+1)\n",
    "        df.loc[df.iloc[start_idx:end_idx].index, 'coding_region'] = 1\n",
    "    \n",
    "    return df"
   ]
  },
  {
   "cell_type": "code",
   "execution_count": 42,
   "id": "562abf18-a683-4a94-adc2-38323e9006af",
   "metadata": {},
   "outputs": [],
   "source": [
    "def extend_coding_stretches(df, n):\n",
    "    df['coding_region'] = df['coding_region'].rolling(2*n+1, center=True, min_periods=1).max()\n",
    "    return df\n",
    "def extend_noncoding_stretches(df, n):\n",
    "    df['noncoding_region'] = df['noncoding_region'].rolling(2*n+1, center=True, min_periods=1).max()\n",
    "    return df"
   ]
  },
  {
   "cell_type": "code",
   "execution_count": 43,
   "id": "e27e4477-d1a3-4281-8820-58a8fd1fe1a8",
   "metadata": {},
   "outputs": [
    {
     "data": {
      "text/html": [
       "<div>\n",
       "<style scoped>\n",
       "    .dataframe tbody tr th:only-of-type {\n",
       "        vertical-align: middle;\n",
       "    }\n",
       "\n",
       "    .dataframe tbody tr th {\n",
       "        vertical-align: top;\n",
       "    }\n",
       "\n",
       "    .dataframe thead th {\n",
       "        text-align: right;\n",
       "    }\n",
       "</style>\n",
       "<table border=\"1\" class=\"dataframe\">\n",
       "  <thead>\n",
       "    <tr style=\"text-align: right;\">\n",
       "      <th></th>\n",
       "      <th>length</th>\n",
       "      <th>sd_seq</th>\n",
       "      <th>start_idx</th>\n",
       "      <th>length_smooth</th>\n",
       "      <th>coding_region</th>\n",
       "      <th>noncoding_region</th>\n",
       "    </tr>\n",
       "    <tr>\n",
       "      <th>start_idx</th>\n",
       "      <th></th>\n",
       "      <th></th>\n",
       "      <th></th>\n",
       "      <th></th>\n",
       "      <th></th>\n",
       "      <th></th>\n",
       "    </tr>\n",
       "  </thead>\n",
       "  <tbody>\n",
       "    <tr>\n",
       "      <th>0</th>\n",
       "      <td>8</td>\n",
       "      <td>GTTACCTG</td>\n",
       "      <td>0</td>\n",
       "      <td>8.0</td>\n",
       "      <td>1.0</td>\n",
       "      <td>0</td>\n",
       "    </tr>\n",
       "    <tr>\n",
       "      <th>1</th>\n",
       "      <td>8</td>\n",
       "      <td>GTTACCTG</td>\n",
       "      <td>1</td>\n",
       "      <td>8.0</td>\n",
       "      <td>1.0</td>\n",
       "      <td>0</td>\n",
       "    </tr>\n",
       "    <tr>\n",
       "      <th>2</th>\n",
       "      <td>8</td>\n",
       "      <td>GTTACCTG</td>\n",
       "      <td>2</td>\n",
       "      <td>8.0</td>\n",
       "      <td>1.0</td>\n",
       "      <td>0</td>\n",
       "    </tr>\n",
       "    <tr>\n",
       "      <th>3</th>\n",
       "      <td>8</td>\n",
       "      <td>GTTACCTG</td>\n",
       "      <td>3</td>\n",
       "      <td>8.0</td>\n",
       "      <td>1.0</td>\n",
       "      <td>0</td>\n",
       "    </tr>\n",
       "    <tr>\n",
       "      <th>4</th>\n",
       "      <td>8</td>\n",
       "      <td>GTTACCTG</td>\n",
       "      <td>4</td>\n",
       "      <td>8.0</td>\n",
       "      <td>1.0</td>\n",
       "      <td>0</td>\n",
       "    </tr>\n",
       "    <tr>\n",
       "      <th>...</th>\n",
       "      <td>...</td>\n",
       "      <td>...</td>\n",
       "      <td>...</td>\n",
       "      <td>...</td>\n",
       "      <td>...</td>\n",
       "      <td>...</td>\n",
       "    </tr>\n",
       "    <tr>\n",
       "      <th>4900714</th>\n",
       "      <td>8</td>\n",
       "      <td>GCAACATT</td>\n",
       "      <td>4900714</td>\n",
       "      <td>NaN</td>\n",
       "      <td>1.0</td>\n",
       "      <td>0</td>\n",
       "    </tr>\n",
       "    <tr>\n",
       "      <th>4900715</th>\n",
       "      <td>8</td>\n",
       "      <td>GCAACATT</td>\n",
       "      <td>4900715</td>\n",
       "      <td>NaN</td>\n",
       "      <td>1.0</td>\n",
       "      <td>0</td>\n",
       "    </tr>\n",
       "    <tr>\n",
       "      <th>4900716</th>\n",
       "      <td>8</td>\n",
       "      <td>GCAACATT</td>\n",
       "      <td>4900716</td>\n",
       "      <td>NaN</td>\n",
       "      <td>1.0</td>\n",
       "      <td>0</td>\n",
       "    </tr>\n",
       "    <tr>\n",
       "      <th>4900717</th>\n",
       "      <td>8</td>\n",
       "      <td>GCAACATT</td>\n",
       "      <td>4900717</td>\n",
       "      <td>NaN</td>\n",
       "      <td>1.0</td>\n",
       "      <td>0</td>\n",
       "    </tr>\n",
       "    <tr>\n",
       "      <th>4900718</th>\n",
       "      <td>8</td>\n",
       "      <td>GCAACATT</td>\n",
       "      <td>4900718</td>\n",
       "      <td>NaN</td>\n",
       "      <td>1.0</td>\n",
       "      <td>0</td>\n",
       "    </tr>\n",
       "  </tbody>\n",
       "</table>\n",
       "<p>4898976 rows × 6 columns</p>\n",
       "</div>"
      ],
      "text/plain": [
       "           length    sd_seq  start_idx  length_smooth  coding_region  \\\n",
       "start_idx                                                              \n",
       "0               8  GTTACCTG          0            8.0            1.0   \n",
       "1               8  GTTACCTG          1            8.0            1.0   \n",
       "2               8  GTTACCTG          2            8.0            1.0   \n",
       "3               8  GTTACCTG          3            8.0            1.0   \n",
       "4               8  GTTACCTG          4            8.0            1.0   \n",
       "...           ...       ...        ...            ...            ...   \n",
       "4900714         8  GCAACATT    4900714            NaN            1.0   \n",
       "4900715         8  GCAACATT    4900715            NaN            1.0   \n",
       "4900716         8  GCAACATT    4900716            NaN            1.0   \n",
       "4900717         8  GCAACATT    4900717            NaN            1.0   \n",
       "4900718         8  GCAACATT    4900718            NaN            1.0   \n",
       "\n",
       "           noncoding_region  \n",
       "start_idx                    \n",
       "0                         0  \n",
       "1                         0  \n",
       "2                         0  \n",
       "3                         0  \n",
       "4                         0  \n",
       "...                     ...  \n",
       "4900714                   0  \n",
       "4900715                   0  \n",
       "4900716                   0  \n",
       "4900717                   0  \n",
       "4900718                   0  \n",
       "\n",
       "[4898976 rows x 6 columns]"
      ]
     },
     "execution_count": 43,
     "metadata": {},
     "output_type": "execute_result"
    }
   ],
   "source": [
    "extend_coding_stretches(df, 249)"
   ]
  },
  {
   "cell_type": "code",
   "execution_count": 44,
   "id": "1b02cfc5-3154-4314-9024-214dc0310429",
   "metadata": {},
   "outputs": [
    {
     "data": {
      "text/html": [
       "<div>\n",
       "<style scoped>\n",
       "    .dataframe tbody tr th:only-of-type {\n",
       "        vertical-align: middle;\n",
       "    }\n",
       "\n",
       "    .dataframe tbody tr th {\n",
       "        vertical-align: top;\n",
       "    }\n",
       "\n",
       "    .dataframe thead th {\n",
       "        text-align: right;\n",
       "    }\n",
       "</style>\n",
       "<table border=\"1\" class=\"dataframe\">\n",
       "  <thead>\n",
       "    <tr style=\"text-align: right;\">\n",
       "      <th></th>\n",
       "      <th>length</th>\n",
       "      <th>sd_seq</th>\n",
       "      <th>start_idx</th>\n",
       "      <th>length_smooth</th>\n",
       "      <th>coding_region</th>\n",
       "      <th>noncoding_region</th>\n",
       "    </tr>\n",
       "    <tr>\n",
       "      <th>start_idx</th>\n",
       "      <th></th>\n",
       "      <th></th>\n",
       "      <th></th>\n",
       "      <th></th>\n",
       "      <th></th>\n",
       "      <th></th>\n",
       "    </tr>\n",
       "  </thead>\n",
       "  <tbody>\n",
       "    <tr>\n",
       "      <th>0</th>\n",
       "      <td>8</td>\n",
       "      <td>GTTACCTG</td>\n",
       "      <td>0</td>\n",
       "      <td>8.0</td>\n",
       "      <td>1.0</td>\n",
       "      <td>0.0</td>\n",
       "    </tr>\n",
       "    <tr>\n",
       "      <th>1</th>\n",
       "      <td>8</td>\n",
       "      <td>GTTACCTG</td>\n",
       "      <td>1</td>\n",
       "      <td>8.0</td>\n",
       "      <td>1.0</td>\n",
       "      <td>0.0</td>\n",
       "    </tr>\n",
       "    <tr>\n",
       "      <th>2</th>\n",
       "      <td>8</td>\n",
       "      <td>GTTACCTG</td>\n",
       "      <td>2</td>\n",
       "      <td>8.0</td>\n",
       "      <td>1.0</td>\n",
       "      <td>0.0</td>\n",
       "    </tr>\n",
       "    <tr>\n",
       "      <th>3</th>\n",
       "      <td>8</td>\n",
       "      <td>GTTACCTG</td>\n",
       "      <td>3</td>\n",
       "      <td>8.0</td>\n",
       "      <td>1.0</td>\n",
       "      <td>0.0</td>\n",
       "    </tr>\n",
       "    <tr>\n",
       "      <th>4</th>\n",
       "      <td>8</td>\n",
       "      <td>GTTACCTG</td>\n",
       "      <td>4</td>\n",
       "      <td>8.0</td>\n",
       "      <td>1.0</td>\n",
       "      <td>0.0</td>\n",
       "    </tr>\n",
       "    <tr>\n",
       "      <th>...</th>\n",
       "      <td>...</td>\n",
       "      <td>...</td>\n",
       "      <td>...</td>\n",
       "      <td>...</td>\n",
       "      <td>...</td>\n",
       "      <td>...</td>\n",
       "    </tr>\n",
       "    <tr>\n",
       "      <th>4900714</th>\n",
       "      <td>8</td>\n",
       "      <td>GCAACATT</td>\n",
       "      <td>4900714</td>\n",
       "      <td>NaN</td>\n",
       "      <td>1.0</td>\n",
       "      <td>0.0</td>\n",
       "    </tr>\n",
       "    <tr>\n",
       "      <th>4900715</th>\n",
       "      <td>8</td>\n",
       "      <td>GCAACATT</td>\n",
       "      <td>4900715</td>\n",
       "      <td>NaN</td>\n",
       "      <td>1.0</td>\n",
       "      <td>0.0</td>\n",
       "    </tr>\n",
       "    <tr>\n",
       "      <th>4900716</th>\n",
       "      <td>8</td>\n",
       "      <td>GCAACATT</td>\n",
       "      <td>4900716</td>\n",
       "      <td>NaN</td>\n",
       "      <td>1.0</td>\n",
       "      <td>0.0</td>\n",
       "    </tr>\n",
       "    <tr>\n",
       "      <th>4900717</th>\n",
       "      <td>8</td>\n",
       "      <td>GCAACATT</td>\n",
       "      <td>4900717</td>\n",
       "      <td>NaN</td>\n",
       "      <td>1.0</td>\n",
       "      <td>0.0</td>\n",
       "    </tr>\n",
       "    <tr>\n",
       "      <th>4900718</th>\n",
       "      <td>8</td>\n",
       "      <td>GCAACATT</td>\n",
       "      <td>4900718</td>\n",
       "      <td>NaN</td>\n",
       "      <td>1.0</td>\n",
       "      <td>0.0</td>\n",
       "    </tr>\n",
       "  </tbody>\n",
       "</table>\n",
       "<p>4898976 rows × 6 columns</p>\n",
       "</div>"
      ],
      "text/plain": [
       "           length    sd_seq  start_idx  length_smooth  coding_region  \\\n",
       "start_idx                                                              \n",
       "0               8  GTTACCTG          0            8.0            1.0   \n",
       "1               8  GTTACCTG          1            8.0            1.0   \n",
       "2               8  GTTACCTG          2            8.0            1.0   \n",
       "3               8  GTTACCTG          3            8.0            1.0   \n",
       "4               8  GTTACCTG          4            8.0            1.0   \n",
       "...           ...       ...        ...            ...            ...   \n",
       "4900714         8  GCAACATT    4900714            NaN            1.0   \n",
       "4900715         8  GCAACATT    4900715            NaN            1.0   \n",
       "4900716         8  GCAACATT    4900716            NaN            1.0   \n",
       "4900717         8  GCAACATT    4900717            NaN            1.0   \n",
       "4900718         8  GCAACATT    4900718            NaN            1.0   \n",
       "\n",
       "           noncoding_region  \n",
       "start_idx                    \n",
       "0                       0.0  \n",
       "1                       0.0  \n",
       "2                       0.0  \n",
       "3                       0.0  \n",
       "4                       0.0  \n",
       "...                     ...  \n",
       "4900714                 0.0  \n",
       "4900715                 0.0  \n",
       "4900716                 0.0  \n",
       "4900717                 0.0  \n",
       "4900718                 0.0  \n",
       "\n",
       "[4898976 rows x 6 columns]"
      ]
     },
     "execution_count": 44,
     "metadata": {},
     "output_type": "execute_result"
    }
   ],
   "source": [
    "extend_noncoding_stretches(df, 249)"
   ]
  },
  {
   "cell_type": "code",
   "execution_count": 171,
   "id": "56590df4-9b0f-4793-a6dd-4e3d36a0e216",
   "metadata": {},
   "outputs": [],
   "source": [
    "df_both = df[(df['coding_region'] == 1) & (df['noncoding_region'] == 1)].drop_duplicates(subset=['sd_seq'])\n",
    "df_coding = df[(df['coding_region'] == 1) & (df['noncoding_region'] == 0)].drop_duplicates(subset=['sd_seq'])\n",
    "df_noncoding = df[(df['coding_region'] == 0) & (df['noncoding_region'] == 1)].drop_duplicates(subset=['sd_seq'])\n",
    "df_neither = df[(df['coding_region'] == 0) & (df['noncoding_region'] == 0)].drop_duplicates(subset=['sd_seq'])\n",
    "dfs = [df_both,df_coding,df_noncoding,df_neither]"
   ]
  },
  {
   "cell_type": "code",
   "execution_count": 172,
   "id": "ec87fcfa-c1a6-4d3c-8d7f-88abd8b5a363",
   "metadata": {},
   "outputs": [],
   "source": [
    "df_plot = pd.DataFrame({'both':df_both.length, 'coding':df_coding.length, 'noncoding':df_noncoding.length, 'neither':df_neither.length})"
   ]
  },
  {
   "cell_type": "code",
   "execution_count": 176,
   "id": "188836f2-52b4-401b-a394-ad084be90e57",
   "metadata": {},
   "outputs": [
    {
     "data": {
      "text/plain": [
       "<AxesSubplot:xlabel='Location of window on the genome', ylabel='Length of invading strand'>"
      ]
     },
     "execution_count": 176,
     "metadata": {},
     "output_type": "execute_result"
    },
    {
     "data": {
      "image/png": "[encoded data removed]",
      "text/plain": [
       "<Figure size 640x480 with 1 Axes>"
      ]
     },
     "metadata": {},
     "output_type": "display_data"
    }
   ],
   "source": [
    "plt.ylabel('Length of invading strand')\n",
    "plt.xlabel('Location of window on the genome')\n",
    "sns.boxplot(df_plot)"
   ]
  },
  {
   "cell_type": "code",
   "execution_count": 50,
   "id": "4a5ce2f8-e2cb-4185-a4d6-435140576c59",
   "metadata": {},
   "outputs": [
    {
     "data": {
      "text/plain": [
       "0     887177\n",
       "1    2353927\n",
       "2    3398638\n",
       "6    4428031\n",
       "7    4459904\n",
       "8    4499186\n",
       "9    4634595\n",
       "Name: start, dtype: int64"
      ]
     },
     "execution_count": 50,
     "metadata": {},
     "output_type": "execute_result"
    }
   ],
   "source": [
    "df_ribo.start"
   ]
  },
  {
   "cell_type": "code",
   "execution_count": 51,
   "id": "692bc8c1-7ae3-4b89-abb8-2d0f0f6408ee",
   "metadata": {},
   "outputs": [
    {
     "data": {
      "text/plain": [
       "count    2902.000000\n",
       "mean        7.377326\n",
       "std         1.434041\n",
       "min         5.000000\n",
       "25%         6.000000\n",
       "50%         7.000000\n",
       "75%         8.000000\n",
       "max        17.000000\n",
       "Name: length, dtype: float64"
      ]
     },
     "execution_count": 51,
     "metadata": {},
     "output_type": "execute_result"
    }
   ],
   "source": [
    "df_both.length.describe()"
   ]
  },
  {
   "cell_type": "code",
   "execution_count": 52,
   "id": "1f1aac30-d771-4e61-81ab-1dcc19333303",
   "metadata": {},
   "outputs": [
    {
     "data": {
      "text/plain": [
       "count    35583.000000\n",
       "mean         7.793834\n",
       "std          1.362365\n",
       "min          5.000000\n",
       "25%          7.000000\n",
       "50%          8.000000\n",
       "75%          8.000000\n",
       "max         21.000000\n",
       "Name: length, dtype: float64"
      ]
     },
     "execution_count": 52,
     "metadata": {},
     "output_type": "execute_result"
    }
   ],
   "source": [
    "df_coding.length.describe()"
   ]
  },
  {
   "cell_type": "code",
   "execution_count": 53,
   "id": "c5f2aff8-5bbe-45ca-b289-9ac631ed76a2",
   "metadata": {},
   "outputs": [
    {
     "data": {
      "text/plain": [
       "count    2880.000000\n",
       "mean        7.080903\n",
       "std         1.265975\n",
       "min         5.000000\n",
       "25%         6.000000\n",
       "50%         7.000000\n",
       "75%         8.000000\n",
       "max        16.000000\n",
       "Name: length, dtype: float64"
      ]
     },
     "execution_count": 53,
     "metadata": {},
     "output_type": "execute_result"
    }
   ],
   "source": [
    "df_noncoding.length.describe()"
   ]
  },
  {
   "cell_type": "code",
   "execution_count": 54,
   "id": "a5671e56-5dce-419b-bc8d-f1f2010b747b",
   "metadata": {},
   "outputs": [
    {
     "data": {
      "text/plain": [
       "count    1814.000000\n",
       "mean        7.055678\n",
       "std         1.239490\n",
       "min         5.000000\n",
       "25%         6.000000\n",
       "50%         7.000000\n",
       "75%         8.000000\n",
       "max        15.000000\n",
       "Name: length, dtype: float64"
      ]
     },
     "execution_count": 54,
     "metadata": {},
     "output_type": "execute_result"
    }
   ],
   "source": [
    "df_neither.length.describe()"
   ]
  },
  {
   "cell_type": "code",
   "execution_count": 76,
   "id": "fd95f105-568f-442d-8e2d-3c75cf869817",
   "metadata": {},
   "outputs": [],
   "source": [
    "def find_closest_row(df, column_name, target_value):\n",
    "    diff = (df[column_name] - target_value).abs()\n",
    "    closest_row_idx = diff.idxmin()\n",
    "    closest_row = df.loc[closest_row_idx]\n",
    "    return closest_row"
   ]
  },
  {
   "cell_type": "code",
   "execution_count": 77,
   "id": "748b4d82-29b0-47ab-b595-46afa413f0df",
   "metadata": {},
   "outputs": [
    {
     "data": {
      "text/html": [
       "<div>\n",
       "<style scoped>\n",
       "    .dataframe tbody tr th:only-of-type {\n",
       "        vertical-align: middle;\n",
       "    }\n",
       "\n",
       "    .dataframe tbody tr th {\n",
       "        vertical-align: top;\n",
       "    }\n",
       "\n",
       "    .dataframe thead th {\n",
       "        text-align: right;\n",
       "    }\n",
       "</style>\n",
       "<table border=\"1\" class=\"dataframe\">\n",
       "  <thead>\n",
       "    <tr style=\"text-align: right;\">\n",
       "      <th></th>\n",
       "      <th>length</th>\n",
       "      <th>sd_seq</th>\n",
       "      <th>start_idx</th>\n",
       "      <th>length_smooth</th>\n",
       "      <th>coding_region</th>\n",
       "      <th>noncoding_region</th>\n",
       "    </tr>\n",
       "    <tr>\n",
       "      <th>start_idx</th>\n",
       "      <th></th>\n",
       "      <th></th>\n",
       "      <th></th>\n",
       "      <th></th>\n",
       "      <th></th>\n",
       "      <th></th>\n",
       "    </tr>\n",
       "  </thead>\n",
       "  <tbody>\n",
       "    <tr>\n",
       "      <th>3636135</th>\n",
       "      <td>17</td>\n",
       "      <td>AAGCAAAAAGGCCATCC</td>\n",
       "      <td>3636135</td>\n",
       "      <td>7.0</td>\n",
       "      <td>1.0</td>\n",
       "      <td>1.0</td>\n",
       "    </tr>\n",
       "    <tr>\n",
       "      <th>3636172</th>\n",
       "      <td>16</td>\n",
       "      <td>AGCAAAAAGGCCATCC</td>\n",
       "      <td>3636172</td>\n",
       "      <td>7.0</td>\n",
       "      <td>1.0</td>\n",
       "      <td>1.0</td>\n",
       "    </tr>\n",
       "    <tr>\n",
       "      <th>2825000</th>\n",
       "      <td>15</td>\n",
       "      <td>GCAATAAAAAACCGC</td>\n",
       "      <td>2825000</td>\n",
       "      <td>7.0</td>\n",
       "      <td>1.0</td>\n",
       "      <td>1.0</td>\n",
       "    </tr>\n",
       "    <tr>\n",
       "      <th>2825072</th>\n",
       "      <td>15</td>\n",
       "      <td>CAATAAAAAACCGCC</td>\n",
       "      <td>2825072</td>\n",
       "      <td>8.0</td>\n",
       "      <td>1.0</td>\n",
       "      <td>1.0</td>\n",
       "    </tr>\n",
       "    <tr>\n",
       "      <th>3636173</th>\n",
       "      <td>15</td>\n",
       "      <td>GCAAAAAGGCCATCC</td>\n",
       "      <td>3636173</td>\n",
       "      <td>7.0</td>\n",
       "      <td>1.0</td>\n",
       "      <td>1.0</td>\n",
       "    </tr>\n",
       "    <tr>\n",
       "      <th>386505</th>\n",
       "      <td>14</td>\n",
       "      <td>AATAATGGCGTTGA</td>\n",
       "      <td>386505</td>\n",
       "      <td>14.0</td>\n",
       "      <td>1.0</td>\n",
       "      <td>1.0</td>\n",
       "    </tr>\n",
       "    <tr>\n",
       "      <th>1794137</th>\n",
       "      <td>14</td>\n",
       "      <td>TGAATTTTGTGATG</td>\n",
       "      <td>1794137</td>\n",
       "      <td>8.0</td>\n",
       "      <td>1.0</td>\n",
       "      <td>1.0</td>\n",
       "    </tr>\n",
       "    <tr>\n",
       "      <th>2825073</th>\n",
       "      <td>14</td>\n",
       "      <td>AATAAAAAACCGCC</td>\n",
       "      <td>2825073</td>\n",
       "      <td>8.0</td>\n",
       "      <td>1.0</td>\n",
       "      <td>1.0</td>\n",
       "    </tr>\n",
       "    <tr>\n",
       "      <th>2875205</th>\n",
       "      <td>14</td>\n",
       "      <td>TTCACGTTGTCGCC</td>\n",
       "      <td>2875205</td>\n",
       "      <td>7.0</td>\n",
       "      <td>1.0</td>\n",
       "      <td>1.0</td>\n",
       "    </tr>\n",
       "    <tr>\n",
       "      <th>3636174</th>\n",
       "      <td>14</td>\n",
       "      <td>CAAAAAGGCCATCC</td>\n",
       "      <td>3636174</td>\n",
       "      <td>7.0</td>\n",
       "      <td>1.0</td>\n",
       "      <td>1.0</td>\n",
       "    </tr>\n",
       "  </tbody>\n",
       "</table>\n",
       "</div>"
      ],
      "text/plain": [
       "           length             sd_seq  start_idx  length_smooth  coding_region  \\\n",
       "start_idx                                                                       \n",
       "3636135        17  AAGCAAAAAGGCCATCC    3636135            7.0            1.0   \n",
       "3636172        16   AGCAAAAAGGCCATCC    3636172            7.0            1.0   \n",
       "2825000        15    GCAATAAAAAACCGC    2825000            7.0            1.0   \n",
       "2825072        15    CAATAAAAAACCGCC    2825072            8.0            1.0   \n",
       "3636173        15    GCAAAAAGGCCATCC    3636173            7.0            1.0   \n",
       "386505         14     AATAATGGCGTTGA     386505           14.0            1.0   \n",
       "1794137        14     TGAATTTTGTGATG    1794137            8.0            1.0   \n",
       "2825073        14     AATAAAAAACCGCC    2825073            8.0            1.0   \n",
       "2875205        14     TTCACGTTGTCGCC    2875205            7.0            1.0   \n",
       "3636174        14     CAAAAAGGCCATCC    3636174            7.0            1.0   \n",
       "\n",
       "           noncoding_region  \n",
       "start_idx                    \n",
       "3636135                 1.0  \n",
       "3636172                 1.0  \n",
       "2825000                 1.0  \n",
       "2825072                 1.0  \n",
       "3636173                 1.0  \n",
       "386505                  1.0  \n",
       "1794137                 1.0  \n",
       "2825073                 1.0  \n",
       "2875205                 1.0  \n",
       "3636174                 1.0  "
      ]
     },
     "execution_count": 77,
     "metadata": {},
     "output_type": "execute_result"
    }
   ],
   "source": [
    "df_both.nlargest(10,'length')"
   ]
  },
  {
   "cell_type": "code",
   "execution_count": 184,
   "id": "738a0fc3-84f8-40e0-8054-3c6fd0b146d2",
   "metadata": {},
   "outputs": [],
   "source": [
    "descriptions_both = []\n",
    "for i, row in df_both.nlargest(15, 'length').iterrows():\n",
    "    desc1 = find_closest_row(df2,'start',row.start_idx).attributes\n",
    "    desc2 = find_closest_row(df2,'end',row.start_idx).attributes\n",
    "    descriptions_both.append((desc1,desc2))"
   ]
  },
  {
   "cell_type": "code",
   "execution_count": 227,
   "id": "4981a8af-391e-461c-8b54-a471c320a9d2",
   "metadata": {},
   "outputs": [],
   "source": [
    "import ast\n",
    "dicts = [ast.literal_eval(df2.attributes.iloc[i]).get('biotype') for i in range(len(df2))]\n"
   ]
  },
  {
   "cell_type": "code",
   "execution_count": 231,
   "id": "3ffd429e-9c73-40c8-8d56-e359fbab1066",
   "metadata": {},
   "outputs": [],
   "source": [
    "dicts = [d[0] for d in dicts if d]"
   ]
  },
  {
   "cell_type": "code",
   "execution_count": 233,
   "id": "387d2ab9-1474-4487-98a3-724b547ef4a7",
   "metadata": {},
   "outputs": [
    {
     "data": {
      "text/plain": [
       "{'ncRNA',\n",
       " 'nontranslating_CDS',\n",
       " 'protein_coding',\n",
       " 'pseudogene',\n",
       " 'rRNA',\n",
       " 'tRNA',\n",
       " 'tmRNA'}"
      ]
     },
     "execution_count": 233,
     "metadata": {},
     "output_type": "execute_result"
    }
   ],
   "source": [
    "set(dicts)"
   ]
  },
  {
   "cell_type": "code",
   "execution_count": 185,
   "id": "39bc5947-496a-4e69-8f61-929b82f5b00d",
   "metadata": {},
   "outputs": [
    {
     "name": "stdout",
     "output_type": "stream",
     "text": [
      "Start of window, End of window\n"
     ]
    },
    {
     "data": {
      "text/plain": [
       "[(\"{'ID': ['gene:ryjA'], 'biotype': ['ncRNA'], 'description': ['Novel sRNA, function unknown'], 'gene_id': ['ryjA'], 'logic_name': ['ena_rna'], 'source': ['ena']}\",\n",
       "  \"{'ID': ['gene:ECW_m4428'], 'Name': ['soxR'], 'biotype': ['protein_coding'], 'description': ['DNA-binding transcriptional dual regulator, Fe-S center for redox-sensing'], 'gene_id': ['ECW_m4428'], 'logic_name': ['ena'], 'source': ['ena']}\"),\n",
       " (\"{'ID': ['gene:rncO'], 'biotype': ['ncRNA'], 'description': ['rncO'], 'gene_id': ['rncO'], 'logic_name': ['ena_rna'], 'source': ['ena']}\",\n",
       "  \"{'ID': ['gene:ECW_m2796'], 'Name': ['rnc'], 'biotype': ['protein_coding'], 'description': ['RNase III'], 'gene_id': ['ECW_m2796'], 'logic_name': ['ena'], 'source': ['ena']}\"),\n",
       " (\"{'ID': ['gene:ryjA'], 'biotype': ['ncRNA'], 'description': ['Novel sRNA, function unknown'], 'gene_id': ['ryjA'], 'logic_name': ['ena_rna'], 'source': ['ena']}\",\n",
       "  \"{'ID': ['gene:ECW_m4428'], 'Name': ['soxR'], 'biotype': ['protein_coding'], 'description': ['DNA-binding transcriptional dual regulator, Fe-S center for redox-sensing'], 'gene_id': ['ECW_m4428'], 'logic_name': ['ena'], 'source': ['ena']}\"),\n",
       " (\"{'ID': ['gene:ryjA'], 'biotype': ['ncRNA'], 'description': ['Novel sRNA, function unknown'], 'gene_id': ['ryjA'], 'logic_name': ['ena_rna'], 'source': ['ena']}\",\n",
       "  \"{'ID': ['gene:ECW_m4428'], 'Name': ['soxR'], 'biotype': ['protein_coding'], 'description': ['DNA-binding transcriptional dual regulator, Fe-S center for redox-sensing'], 'gene_id': ['ECW_m4428'], 'logic_name': ['ena'], 'source': ['ena']}\"),\n",
       " (\"{'ID': ['gene:ECW_m0753'], 'Name': ['yhhH1'], 'biotype': ['protein_coding'], 'description': ['conserved hypothetical protein'], 'gene_id': ['ECW_m0753'], 'logic_name': ['ena'], 'source': ['ena']}\",\n",
       "  \"{'ID': ['gene:ECW_m0752'], 'Name': ['rhsW4'], 'biotype': ['pseudogene'], 'gene_id': ['ECW_m0752'], 'logic_name': ['ena'], 'source': ['ena']}\"),\n",
       " (\"{'ID': ['gene:ECW_m2423'], 'Name': ['yfaS'], 'biotype': ['pseudogene'], 'gene_id': ['ECW_m2423'], 'logic_name': ['ena'], 'source': ['ena']}\",\n",
       "  \"{'ID': ['gene:ECW_m2422'], 'Name': ['yfaQ'], 'biotype': ['protein_coding'], 'description': ['predicted protein'], 'gene_id': ['ECW_m2422'], 'logic_name': ['ena'], 'source': ['ena']}\"),\n",
       " (\"{'ID': ['gene:ECW_m3043'], 'biotype': ['pseudogene'], 'gene_id': ['ECW_m3043'], 'logic_name': ['ena'], 'source': ['ena']}\",\n",
       "  \"{'ID': ['gene:ECW_m3042'], 'biotype': ['protein_coding'], 'description': ['hypothetical protein'], 'gene_id': ['ECW_m3042'], 'logic_name': ['ena'], 'source': ['ena']}\"),\n",
       " (\"{'ID': ['gene:ECW_m4142'], 'Name': ['rfaH'], 'biotype': ['protein_coding'], 'description': ['DNA-binding transcriptional antiterminator'], 'gene_id': ['ECW_m4142'], 'logic_name': ['ena'], 'source': ['ena']}\",\n",
       "  \"{'ID': ['gene:ECW_m4141'], 'biotype': ['pseudogene'], 'gene_id': ['ECW_m4141'], 'logic_name': ['ena'], 'source': ['ena']}\"),\n",
       " (\"{'ID': ['gene:ryjA'], 'biotype': ['ncRNA'], 'description': ['Novel sRNA, function unknown'], 'gene_id': ['ryjA'], 'logic_name': ['ena_rna'], 'source': ['ena']}\",\n",
       "  \"{'ID': ['gene:ECW_m4428'], 'Name': ['soxR'], 'biotype': ['protein_coding'], 'description': ['DNA-binding transcriptional dual regulator, Fe-S center for redox-sensing'], 'gene_id': ['ECW_m4428'], 'logic_name': ['ena'], 'source': ['ena']}\"),\n",
       " (\"{'ID': ['gene:ECW_m0753'], 'Name': ['yhhH1'], 'biotype': ['protein_coding'], 'description': ['conserved hypothetical protein'], 'gene_id': ['ECW_m0753'], 'logic_name': ['ena'], 'source': ['ena']}\",\n",
       "  \"{'ID': ['gene:ECW_m0752'], 'Name': ['rhsW4'], 'biotype': ['pseudogene'], 'gene_id': ['ECW_m0752'], 'logic_name': ['ena'], 'source': ['ena']}\"),\n",
       " (\"{'ID': ['gene:isrA'], 'biotype': ['ncRNA'], 'description': ['Novel sRNA, function unknown'], 'gene_id': ['isrA'], 'logic_name': ['ena_rna'], 'source': ['ena']}\",\n",
       "  \"{'ID': ['gene:ECW_m1436'], 'Name': ['abgR'], 'biotype': ['protein_coding'], 'description': ['predicted DNA-binding transcriptional regulator'], 'gene_id': ['ECW_m1436'], 'logic_name': ['ena'], 'source': ['ena']}\"),\n",
       " (\"{'ID': ['gene:ECW_m3592'], 'Name': ['bfr'], 'biotype': ['protein_coding'], 'description': ['bacterioferritin, iron storage and detoxification protein'], 'gene_id': ['ECW_m3592'], 'logic_name': ['ena'], 'source': ['ena']}\",\n",
       "  \"{'ID': ['gene:ECW_m3591'], 'Name': ['gspO'], 'biotype': ['pseudogene'], 'gene_id': ['ECW_m3591'], 'logic_name': ['ena'], 'source': ['ena']}\"),\n",
       " (\"{'ID': ['gene:ryjA'], 'biotype': ['ncRNA'], 'description': ['Novel sRNA, function unknown'], 'gene_id': ['ryjA'], 'logic_name': ['ena_rna'], 'source': ['ena']}\",\n",
       "  \"{'ID': ['gene:ECW_m4428'], 'Name': ['soxR'], 'biotype': ['protein_coding'], 'description': ['DNA-binding transcriptional dual regulator, Fe-S center for redox-sensing'], 'gene_id': ['ECW_m4428'], 'logic_name': ['ena'], 'source': ['ena']}\"),\n",
       " (\"{'ID': ['gene:ECW_m0753'], 'Name': ['yhhH1'], 'biotype': ['protein_coding'], 'description': ['conserved hypothetical protein'], 'gene_id': ['ECW_m0753'], 'logic_name': ['ena'], 'source': ['ena']}\",\n",
       "  \"{'ID': ['gene:ECW_m0752'], 'Name': ['rhsW4'], 'biotype': ['pseudogene'], 'gene_id': ['ECW_m0752'], 'logic_name': ['ena'], 'source': ['ena']}\"),\n",
       " (\"{'ID': ['gene:ECW_m0756'], 'Name': ['ybfB'], 'biotype': ['protein_coding'], 'description': ['predicted inner membrane protein'], 'gene_id': ['ECW_m0756'], 'logic_name': ['ena'], 'source': ['ena']}\",\n",
       "  \"{'ID': ['gene:ECW_m0755'], 'biotype': ['pseudogene'], 'gene_id': ['ECW_m0755'], 'logic_name': ['ena'], 'source': ['ena']}\")]"
      ]
     },
     "execution_count": 185,
     "metadata": {},
     "output_type": "execute_result"
    }
   ],
   "source": [
    "print('Start of window, End of window')\n",
    "descriptions_both\n"
   ]
  },
  {
   "cell_type": "code",
   "execution_count": null,
   "id": "c81ea7f2-78dd-4947-b72f-8cce77529feb",
   "metadata": {},
   "outputs": [],
   "source": [
    "#TODO: add mismatches between incumbent complimentary strands\n",
    "# consider bulges (consecutive mismatches)"
   ]
  },
  {
   "cell_type": "code",
   "execution_count": 80,
   "id": "63ee531e-0ab7-494c-ad71-9c0a5ea2c8d3",
   "metadata": {},
   "outputs": [],
   "source": [
    "descriptions_nc = []\n",
    "for i, row in df_noncoding.nlargest(15, 'length').iterrows():\n",
    "    desc1 = find_closest_row(df2,'start',row.start_idx).feature\n",
    "    desc2 = find_closest_row(df2,'end',row.start_idx).feature\n",
    "    descriptions_nc.append((desc1,desc2))"
   ]
  },
  {
   "cell_type": "code",
   "execution_count": 141,
   "id": "c85b01fb-7816-4846-af41-ddc0d368998c",
   "metadata": {},
   "outputs": [
    {
     "name": "stdout",
     "output_type": "stream",
     "text": [
      "Start of window, End of window\n"
     ]
    },
    {
     "data": {
      "text/plain": [
       "[('pseudogene', 'pseudogene'),\n",
       " ('pseudogene', 'pseudogene'),\n",
       " ('pseudogene', 'pseudogene'),\n",
       " ('pseudogene', 'pseudogene'),\n",
       " ('pseudogene', 'pseudogene'),\n",
       " ('pseudogene', 'pseudogene'),\n",
       " ('ncRNA_gene', 'ncRNA_gene'),\n",
       " ('ncRNA_gene', 'ncRNA_gene'),\n",
       " ('ncRNA_gene', 'ncRNA_gene'),\n",
       " ('ncRNA_gene', 'ncRNA_gene'),\n",
       " ('pseudogene', 'pseudogene'),\n",
       " ('ncRNA_gene', 'gene'),\n",
       " ('ncRNA_gene', 'gene'),\n",
       " ('ncRNA_gene', 'ncRNA_gene'),\n",
       " ('ncRNA_gene', 'ncRNA_gene')]"
      ]
     },
     "execution_count": 141,
     "metadata": {},
     "output_type": "execute_result"
    }
   ],
   "source": [
    "print('Start of window, End of window')\n",
    "descriptions_nc"
   ]
  },
  {
   "cell_type": "code",
   "execution_count": 165,
   "id": "a9f2ecbd-8fc9-4e1b-a194-e97172ed822d",
   "metadata": {},
   "outputs": [],
   "source": [
    "df_both = df[(df['coding_region'] == 1) & (df['noncoding_region'] == 1)]\n",
    "df_coding = df[(df['coding_region'] == 1) & (df['noncoding_region'] == 0)]\n",
    "df_noncoding = df[(df['coding_region'] == 0) & (df['noncoding_region'] == 1)]\n",
    "df_neither = df[(df['coding_region'] == 0) & (df['noncoding_region'] == 0)]\n",
    "dfs = [df_both,df_coding,df_noncoding,df_neither]"
   ]
  },
  {
   "cell_type": "code",
   "execution_count": null,
   "id": "01a1f807-802b-4ed7-b732-cc47f152513f",
   "metadata": {},
   "outputs": [],
   "source": []
  },
  {
   "cell_type": "code",
   "execution_count": 139,
   "id": "8af290ba-61a5-4879-ab2e-e31ef26f704b",
   "metadata": {},
   "outputs": [
    {
     "name": "stdout",
     "output_type": "stream",
     "text": [
      "           length   sd_seq  start_idx  coding_region  noncoding_region\n",
      "start_idx                                                             \n",
      "887177          7  GATACGG     887177              0                 1            length   sd_seq  start_idx  coding_region  noncoding_region\n",
      "start_idx                                                             \n",
      "887177          7  GATACGG     887177              0                 1\n",
      "           length   sd_seq  start_idx  coding_region  noncoding_region\n",
      "start_idx                                                             \n",
      "2353927         7  TTGTAAA    2353927              0                 1            length   sd_seq  start_idx  coding_region  noncoding_region\n",
      "start_idx                                                             \n",
      "2353927         7  TTGTAAA    2353927              0                 1\n",
      "           length   sd_seq  start_idx  coding_region  noncoding_region\n",
      "start_idx                                                             \n",
      "3398638         7  CGCTAAT    3398638              0                 1            length   sd_seq  start_idx  coding_region  noncoding_region\n",
      "start_idx                                                             \n",
      "3398638         7  CGCTAAT    3398638              0                 1\n",
      "           length    sd_seq  start_idx  coding_region  noncoding_region\n",
      "start_idx                                                              \n",
      "4428031         8  GCGATGAT    4428031              0                 1            length    sd_seq  start_idx  coding_region  noncoding_region\n",
      "start_idx                                                              \n",
      "4428031         8  GCGATGAT    4428031              0                 1\n",
      "           length   sd_seq  start_idx  coding_region  noncoding_region\n",
      "start_idx                                                             \n",
      "4459904         7  TTGACGC    4459904              0                 1            length   sd_seq  start_idx  coding_region  noncoding_region\n",
      "start_idx                                                             \n",
      "4459904         7  TTGACGC    4459904              0                 1\n",
      "           length    sd_seq  start_idx  coding_region  noncoding_region\n",
      "start_idx                                                              \n",
      "4499186         8  CCTGCGCT    4499186              0                 1            length    sd_seq  start_idx  coding_region  noncoding_region\n",
      "start_idx                                                              \n",
      "4499186         8  CCTGCGCT    4499186              0                 1\n",
      "           length    sd_seq  start_idx  coding_region  noncoding_region\n",
      "start_idx                                                              \n",
      "4634595         8  TTTGCAGG    4634595              0                 1            length    sd_seq  start_idx  coding_region  noncoding_region\n",
      "start_idx                                                              \n",
      "4634595         8  TTTGCAGG    4634595              0                 1\n"
     ]
    }
   ],
   "source": [
    "for i, row in df_ribo.iterrows():\n",
    "    for df in dfs:\n",
    "        result1 = df[df.start_idx == row.start]\n",
    "        result2 = df[df.start_idx == row.start]\n",
    "        if not result1.empty:\n",
    "            print(result1, result2)\n"
   ]
  },
  {
   "cell_type": "code",
   "execution_count": null,
   "id": "f5b3114a-d8bb-4588-bfa8-c36962bd2a36",
   "metadata": {},
   "outputs": [],
   "source": []
  },
  {
   "cell_type": "code",
   "execution_count": null,
   "id": "6ccf016b-5698-4412-b4d5-e3141ac5c2ff",
   "metadata": {},
   "outputs": [],
   "source": []
  }
 ],
 "metadata": {
  "kernelspec": {
   "display_name": "Python [conda env:aptamer]",
   "language": "python",
   "name": "conda-env-aptamer-py"
  },
  "language_info": {
   "codemirror_mode": {
    "name": "ipython",
    "version": 3
   },
   "file_extension": ".py",
   "mimetype": "text/x-python",
   "name": "python",
   "nbconvert_exporter": "python",
   "pygments_lexer": "ipython3",
   "version": "3.10.0"
  }
 },
 "nbformat": 4,
 "nbformat_minor": 5
}
